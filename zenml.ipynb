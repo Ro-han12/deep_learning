{
 "cells": [
  {
   "cell_type": "code",
   "execution_count": 2,
   "metadata": {},
   "outputs": [],
   "source": [
    "import zenml\n",
    "from zenml import step \n",
    "from typing_extensions import Annotated\n",
    "import pandas as pd\n",
    "from typing import Tuple\n"
   ]
  },
  {
   "cell_type": "code",
   "execution_count": null,
   "metadata": {},
   "outputs": [],
   "source": [
    "@step \n",
    "def importer()-> Tuple[\n",
    "    Annotated[np.ndarray,'x_train'],\n",
    "    Annotated[np.ndarray,'x_test'],\n",
    "    Annotated[np.ndarray,'y_train'],\n",
    "    Annotated[np.ndarray,'y_test'],\n",
    "    \n",
    "]:\n",
    "    \" \" \"Load the digits dataset as numpy arrays.\" \" \""
   ]
  }
 ],
 "metadata": {
  "kernelspec": {
   "display_name": "myenv",
   "language": "python",
   "name": "python3"
  },
  "language_info": {
   "codemirror_mode": {
    "name": "ipython",
    "version": 3
   },
   "file_extension": ".py",
   "mimetype": "text/x-python",
   "name": "python",
   "nbconvert_exporter": "python",
   "pygments_lexer": "ipython3",
   "version": "3.9.18"
  }
 },
 "nbformat": 4,
 "nbformat_minor": 2
}
