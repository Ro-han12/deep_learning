{
 "cells": [
  {
   "cell_type": "code",
   "execution_count": 7,
   "metadata": {},
   "outputs": [],
   "source": [
    "import tensorflow\n",
    "from tensorflow import keras\n",
    "class ResidualUnit(keras.layers.Layer):\n",
    "    def __init__(self, filters, strides=1, activation=\"relu\", **kwargs):\n",
    "        super().__init__(**kwargs)\n",
    "        self.activation = keras.activations.get(activation) \n",
    "        self.main_layers = [\n",
    "        keras.layers.Conv2D(filters, 3, strides=strides,padding=\"same\", use_bias=False),\n",
    "        keras.layers.BatchNormalization(),self.activation,keras.layers.Conv2D(filters, 3, strides=1,padding=\"same\", use_bias=False),keras.layers.BatchNormalization()]\n",
    "        self.skip_layers = [] \n",
    "        if strides > 1:\n",
    "            self.skip_layers = [keras.layers.Conv2D(filters, 1, strides=strides,padding=\"same\", use_bias=False),keras.layers.BatchNormalization()]\n",
    "        def call(self, inputs):\n",
    "            Z = inputs\n",
    "            for layer in self.main_layers:\n",
    "                Z = layer(Z)\n",
    "                skip_Z = inputs\n",
    "                for layer in self.skip_layers:\n",
    "                    skip_Z = layer(skip_Z)\n",
    "                return self.activation(Z + skip_Z)"
   ]
  }
 ],
 "metadata": {
  "kernelspec": {
   "display_name": "google",
   "language": "python",
   "name": "python3"
  },
  "language_info": {
   "codemirror_mode": {
    "name": "ipython",
    "version": 3
   },
   "file_extension": ".py",
   "mimetype": "text/x-python",
   "name": "python",
   "nbconvert_exporter": "python",
   "pygments_lexer": "ipython3",
   "version": "3.10.13"
  }
 },
 "nbformat": 4,
 "nbformat_minor": 2
}
