{
 "cells": [
  {
   "cell_type": "code",
   "execution_count": 38,
   "metadata": {},
   "outputs": [
    {
     "name": "stdout",
     "output_type": "stream",
     "text": [
      "30.0\n"
     ]
    }
   ],
   "source": [
    "import tensorflow as tf\n",
    "\n",
    "x = tf.constant(10, dtype=tf.float32)\n",
    "y = tf.constant(20, dtype=tf.float32)\n",
    "z = tf.Variable(tf.add(x, y))\n",
    "\n",
    "# No need for global_variables_initializer() in TensorFlow 2.x\n",
    "\n",
    "# TensorFlow 2.x automatically initializes variables when they are used in sessions or functions\n",
    "\n",
    "# Instead of session.run(z), you can simply access the value of z using z.numpy()\n",
    "print(z.numpy())\n"
   ]
  },
  {
   "cell_type": "code",
   "execution_count": 39,
   "metadata": {},
   "outputs": [],
   "source": [
    "#custom activation functions\n",
    "def my_softplus(z): \n",
    "    return tf.math.log(tf.exp(z) + 1.0)\n",
    "def my_glorot_initializer(shape, dtype=tf.float32):\n",
    "    stddev = tf.sqrt(2. / (shape[0] + shape[1]))\n",
    "    return tf.random.normal(shape, stddev=stddev, dtype=dtype)\n",
    "def my_l1_regularizer(weights):\n",
    "    return tf.reduce_sum(tf.abs(0.01 * weights))\n",
    "def my_positive_weights(weights):\n",
    "    return tf.where(weights < 0., tf.zeros_like(weights), weights)"
   ]
  },
  {
   "cell_type": "code",
   "execution_count": 40,
   "metadata": {},
   "outputs": [],
   "source": [
    "#custom layers \n",
    "from tensorflow import keras\n",
    "exponential_layer = keras.layers.Lambda(lambda x: tf.exp(x))"
   ]
  },
  {
   "cell_type": "code",
   "execution_count": 41,
   "metadata": {},
   "outputs": [],
   "source": [
    "class MyDense(keras.layers.Layer):\n",
    "    def __init__(self, units, activation=None, **kwargs):\n",
    "        super().__init__(**kwargs)\n",
    "        self.units = units\n",
    "        self.activation = keras.activations.get(activation)\n",
    "    def build(self, batch_input_shape): \n",
    "        self.kernel = self.add_weight(name=\"kernel\", shape=[batch_input_shape[-1], self.units],intializer=\"glorot_normal\")\n",
    "        self.bias = self.add_weight(name=\"bias\", shape=[self.units], initializer=\"zeros\") \n",
    "        super().build(batch_input_shape) # must be at the end\n",
    "    def call(self, X):\n",
    "        return self.activation(X @ self.kernel + self.bias)\n",
    "    def compute_output_shape(self, batch_input_shape):\n",
    "        return tf.TensorShape(batch_input_shape.as_list()[:-1] + [self.units])\n",
    "    def get_config(self):\n",
    "        base_config = super().get_config()\n",
    "        return {**base_config, \"units\": self.units,\n",
    "        \"activation\": keras.activations.serialize(self.activation)}"
   ]
  },
  {
   "cell_type": "code",
   "execution_count": 42,
   "metadata": {},
   "outputs": [],
   "source": [
    "#custom model with subclassclassing api \n",
    "class ResidualRegressor(keras.Model):\n",
    "    def __init__(self, output_dim, **kwargs):\n",
    "        super().__init__(**kwargs)\n",
    "        self.hidden1 = keras.layers.Dense(30, activation=\"elu\",kernel_initializer=\"he_normal\")\n",
    "        self.block1 = ResidualBlock(2, 30)\n",
    "        self.block2 = ResidualBlock(2, 30)\n",
    "        self.out = keras.layers.Dense(output_dim)\n",
    "    def call(self, inputs):\n",
    "        Z = self.hidden1(inputs) \n",
    "        for _ in range(1 + 3):\n",
    "            Z = self.block1(Z) \n",
    "            Z = self.block2(Z) \n",
    "            return self.out(Z)"
   ]
  },
  {
   "cell_type": "code",
   "execution_count": 43,
   "metadata": {},
   "outputs": [
    {
     "name": "stdout",
     "output_type": "stream",
     "text": [
      "graph operations: 13 30\n"
     ]
    }
   ],
   "source": [
    "#creating graphs \n",
    "a=tf.constant(10.0)\n",
    "b=tf.constant(3.0)\n",
    "c=tf.add(a,b)\n",
    "d=tf.multiply(a,b)\n",
    "tf.print(\"graph operations:\",c,d)"
   ]
  },
  {
   "cell_type": "code",
   "execution_count": 44,
   "metadata": {},
   "outputs": [
    {
     "name": "stdout",
     "output_type": "stream",
     "text": [
      "Epoch 1/100\n",
      "4/4 [==============================] - 0s 16ms/step - loss: 18.0129\n",
      "Epoch 2/100\n",
      "4/4 [==============================] - 0s 6ms/step - loss: 0.6025\n",
      "Epoch 3/100\n",
      "4/4 [==============================] - 0s 6ms/step - loss: 0.5954\n",
      "Epoch 4/100\n",
      "4/4 [==============================] - 0s 5ms/step - loss: 0.5604\n",
      "Epoch 5/100\n",
      "4/4 [==============================] - 0s 5ms/step - loss: 0.5551\n",
      "Epoch 6/100\n",
      "4/4 [==============================] - 0s 5ms/step - loss: 0.5637\n",
      "Epoch 7/100\n",
      "4/4 [==============================] - 0s 5ms/step - loss: 0.5104\n",
      "Epoch 8/100\n",
      "4/4 [==============================] - 0s 5ms/step - loss: 0.5757\n",
      "Epoch 9/100\n",
      "4/4 [==============================] - 0s 5ms/step - loss: 0.4979\n",
      "Epoch 10/100\n",
      "4/4 [==============================] - 0s 5ms/step - loss: 0.4746\n",
      "Epoch 11/100\n",
      "4/4 [==============================] - 0s 5ms/step - loss: 0.4885\n",
      "Epoch 12/100\n",
      "4/4 [==============================] - 0s 5ms/step - loss: 0.4784\n",
      "Epoch 13/100\n",
      "4/4 [==============================] - 0s 5ms/step - loss: 0.4476\n",
      "Epoch 14/100\n",
      "4/4 [==============================] - 0s 5ms/step - loss: 0.4286\n",
      "Epoch 15/100\n",
      "4/4 [==============================] - 0s 5ms/step - loss: 0.4199\n",
      "Epoch 16/100\n",
      "4/4 [==============================] - 0s 6ms/step - loss: 0.3944\n",
      "Epoch 17/100\n",
      "4/4 [==============================] - 0s 5ms/step - loss: 0.3836\n",
      "Epoch 18/100\n",
      "4/4 [==============================] - 0s 5ms/step - loss: 0.3855\n",
      "Epoch 19/100\n",
      "4/4 [==============================] - 0s 5ms/step - loss: 0.3697\n",
      "Epoch 20/100\n",
      "4/4 [==============================] - 0s 5ms/step - loss: 0.3676\n",
      "Epoch 21/100\n",
      "4/4 [==============================] - 0s 5ms/step - loss: 0.3527\n",
      "Epoch 22/100\n",
      "4/4 [==============================] - 0s 5ms/step - loss: 0.3488\n",
      "Epoch 23/100\n",
      "4/4 [==============================] - 0s 5ms/step - loss: 0.3299\n",
      "Epoch 24/100\n",
      "4/4 [==============================] - 0s 6ms/step - loss: 0.3121\n",
      "Epoch 25/100\n",
      "4/4 [==============================] - 0s 5ms/step - loss: 0.3171\n",
      "Epoch 26/100\n",
      "4/4 [==============================] - 0s 5ms/step - loss: 0.2978\n",
      "Epoch 27/100\n",
      "4/4 [==============================] - 0s 5ms/step - loss: 0.2955\n",
      "Epoch 28/100\n",
      "4/4 [==============================] - 0s 5ms/step - loss: 0.2797\n",
      "Epoch 29/100\n",
      "4/4 [==============================] - 0s 5ms/step - loss: 0.2908\n",
      "Epoch 30/100\n",
      "4/4 [==============================] - 0s 5ms/step - loss: 0.2668\n",
      "Epoch 31/100\n",
      "4/4 [==============================] - 0s 5ms/step - loss: 0.2632\n",
      "Epoch 32/100\n",
      "4/4 [==============================] - 0s 5ms/step - loss: 0.2496\n",
      "Epoch 33/100\n",
      "4/4 [==============================] - 0s 5ms/step - loss: 0.2532\n",
      "Epoch 34/100\n",
      "4/4 [==============================] - 0s 5ms/step - loss: 0.2359\n",
      "Epoch 35/100\n",
      "4/4 [==============================] - 0s 5ms/step - loss: 0.2284\n",
      "Epoch 36/100\n",
      "4/4 [==============================] - 0s 5ms/step - loss: 0.2268\n",
      "Epoch 37/100\n",
      "4/4 [==============================] - 0s 5ms/step - loss: 0.2171\n",
      "Epoch 38/100\n",
      "4/4 [==============================] - 0s 5ms/step - loss: 0.2104\n",
      "Epoch 39/100\n",
      "4/4 [==============================] - 0s 6ms/step - loss: 0.2117\n",
      "Epoch 40/100\n",
      "4/4 [==============================] - 0s 5ms/step - loss: 0.2112\n",
      "Epoch 41/100\n",
      "4/4 [==============================] - 0s 5ms/step - loss: 0.1962\n",
      "Epoch 42/100\n",
      "4/4 [==============================] - 0s 5ms/step - loss: 0.1888\n",
      "Epoch 43/100\n",
      "4/4 [==============================] - 0s 5ms/step - loss: 0.1864\n",
      "Epoch 44/100\n",
      "4/4 [==============================] - 0s 5ms/step - loss: 0.1737\n",
      "Epoch 45/100\n",
      "4/4 [==============================] - 0s 5ms/step - loss: 0.1709\n",
      "Epoch 46/100\n",
      "4/4 [==============================] - 0s 5ms/step - loss: 0.1691\n",
      "Epoch 47/100\n",
      "4/4 [==============================] - 0s 5ms/step - loss: 0.1601\n",
      "Epoch 48/100\n",
      "4/4 [==============================] - 0s 5ms/step - loss: 0.1579\n",
      "Epoch 49/100\n",
      "4/4 [==============================] - 0s 5ms/step - loss: 0.1670\n",
      "Epoch 50/100\n",
      "4/4 [==============================] - 0s 5ms/step - loss: 0.1541\n",
      "Epoch 51/100\n",
      "4/4 [==============================] - 0s 5ms/step - loss: 0.1451\n",
      "Epoch 52/100\n",
      "4/4 [==============================] - 0s 5ms/step - loss: 0.1464\n",
      "Epoch 53/100\n",
      "4/4 [==============================] - 0s 5ms/step - loss: 0.1345\n",
      "Epoch 54/100\n",
      "4/4 [==============================] - 0s 5ms/step - loss: 0.1309\n",
      "Epoch 55/100\n",
      "4/4 [==============================] - 0s 5ms/step - loss: 0.1338\n",
      "Epoch 56/100\n",
      "4/4 [==============================] - 0s 5ms/step - loss: 0.1311\n",
      "Epoch 57/100\n",
      "4/4 [==============================] - 0s 5ms/step - loss: 0.1202\n",
      "Epoch 58/100\n",
      "4/4 [==============================] - 0s 5ms/step - loss: 0.1214\n",
      "Epoch 59/100\n",
      "4/4 [==============================] - 0s 5ms/step - loss: 0.1200\n",
      "Epoch 60/100\n",
      "4/4 [==============================] - 0s 5ms/step - loss: 0.1167\n",
      "Epoch 61/100\n",
      "4/4 [==============================] - 0s 5ms/step - loss: 0.1116\n",
      "Epoch 62/100\n",
      "4/4 [==============================] - 0s 6ms/step - loss: 0.1186\n",
      "Epoch 63/100\n",
      "4/4 [==============================] - 0s 5ms/step - loss: 0.1059\n",
      "Epoch 64/100\n",
      "4/4 [==============================] - 0s 5ms/step - loss: 0.0978\n",
      "Epoch 65/100\n",
      "4/4 [==============================] - 0s 5ms/step - loss: 0.0954\n",
      "Epoch 66/100\n",
      "4/4 [==============================] - 0s 5ms/step - loss: 0.0919\n",
      "Epoch 67/100\n",
      "4/4 [==============================] - 0s 5ms/step - loss: 0.0925\n",
      "Epoch 68/100\n",
      "4/4 [==============================] - 0s 5ms/step - loss: 0.0877\n",
      "Epoch 69/100\n",
      "4/4 [==============================] - 0s 5ms/step - loss: 0.0845\n",
      "Epoch 70/100\n",
      "4/4 [==============================] - 0s 5ms/step - loss: 0.0818\n",
      "Epoch 71/100\n",
      "4/4 [==============================] - 0s 5ms/step - loss: 0.0858\n",
      "Epoch 72/100\n",
      "4/4 [==============================] - 0s 5ms/step - loss: 0.0844\n",
      "Epoch 73/100\n",
      "4/4 [==============================] - 0s 5ms/step - loss: 0.0794\n",
      "Epoch 74/100\n",
      "4/4 [==============================] - 0s 5ms/step - loss: 0.0771\n",
      "Epoch 75/100\n",
      "4/4 [==============================] - 0s 5ms/step - loss: 0.0719\n",
      "Epoch 76/100\n",
      "4/4 [==============================] - 0s 6ms/step - loss: 0.0714\n",
      "Epoch 77/100\n",
      "4/4 [==============================] - 0s 6ms/step - loss: 0.0717\n",
      "Epoch 78/100\n",
      "4/4 [==============================] - 0s 5ms/step - loss: 0.0660\n",
      "Epoch 79/100\n",
      "4/4 [==============================] - 0s 5ms/step - loss: 0.0668\n",
      "Epoch 80/100\n",
      "4/4 [==============================] - 0s 5ms/step - loss: 0.0667\n",
      "Epoch 81/100\n",
      "4/4 [==============================] - 0s 5ms/step - loss: 0.0651\n",
      "Epoch 82/100\n",
      "4/4 [==============================] - 0s 6ms/step - loss: 0.0625\n",
      "Epoch 83/100\n",
      "4/4 [==============================] - 0s 5ms/step - loss: 0.0576\n",
      "Epoch 84/100\n",
      "4/4 [==============================] - 0s 5ms/step - loss: 0.0554\n",
      "Epoch 85/100\n",
      "4/4 [==============================] - 0s 5ms/step - loss: 0.0544\n",
      "Epoch 86/100\n",
      "4/4 [==============================] - 0s 5ms/step - loss: 0.0544\n",
      "Epoch 87/100\n",
      "4/4 [==============================] - 0s 5ms/step - loss: 0.0680\n",
      "Epoch 88/100\n",
      "4/4 [==============================] - 0s 5ms/step - loss: 0.0519\n",
      "Epoch 89/100\n",
      "4/4 [==============================] - 0s 5ms/step - loss: 0.0521\n",
      "Epoch 90/100\n",
      "4/4 [==============================] - 0s 5ms/step - loss: 0.0457\n",
      "Epoch 91/100\n",
      "4/4 [==============================] - 0s 6ms/step - loss: 0.0457\n",
      "Epoch 92/100\n",
      "4/4 [==============================] - 0s 5ms/step - loss: 0.0442\n",
      "Epoch 93/100\n",
      "4/4 [==============================] - 0s 5ms/step - loss: 0.0420\n",
      "Epoch 94/100\n",
      "4/4 [==============================] - 0s 5ms/step - loss: 0.0439\n",
      "Epoch 95/100\n",
      "4/4 [==============================] - 0s 5ms/step - loss: 0.0395\n",
      "Epoch 96/100\n",
      "4/4 [==============================] - 0s 5ms/step - loss: 0.0408\n",
      "Epoch 97/100\n",
      "4/4 [==============================] - 0s 12ms/step - loss: 0.0382\n",
      "Epoch 98/100\n",
      "4/4 [==============================] - 0s 6ms/step - loss: 0.0362\n",
      "Epoch 99/100\n",
      "4/4 [==============================] - 0s 6ms/step - loss: 0.0362\n",
      "Epoch 100/100\n",
      "4/4 [==============================] - 0s 6ms/step - loss: 0.0349\n"
     ]
    }
   ],
   "source": [
    "#regression model \n",
    "import tensorflow as tf \n",
    "from tensorflow import keras \n",
    "import matplotlib.pyplot as plt \n",
    "import numpy as np \n",
    "np.random.seed(42)\n",
    "x_train=np.linspace(1,10,100)\n",
    "y_train=2*x_train+2\n",
    "from tensorflow.keras import Sequential\n",
    "from tensorflow.keras.layers import Dense,Input\n",
    "model=Sequential()\n",
    "model.add(Input(1,))\n",
    "model.add(Dense(units=1,activation='linear'))\n",
    "model.compile(optimizer='sgd',loss='mean_squared_error')\n",
    "history=model.fit(x_train,y_train,epochs=100,verbose=True)\n"
   ]
  },
  {
   "cell_type": "code",
   "execution_count": 45,
   "metadata": {},
   "outputs": [
    {
     "name": "stdout",
     "output_type": "stream",
     "text": [
      "dict_keys(['loss'])\n"
     ]
    },
    {
     "data": {
      "image/png": "[encoded data removed]",
      "text/plain": [
       "<Figure size 640x480 with 1 Axes>"
      ]
     },
     "metadata": {},
     "output_type": "display_data"
    }
   ],
   "source": [
    "print(history.history.keys())\n",
    "plt.plot(history.history['loss'])\n",
    "plt.xlabel('epochs')\n",
    "plt.ylabel(\"loss\")\n",
    "plt.show()"
   ]
  },
  {
   "cell_type": "code",
   "execution_count": 46,
   "metadata": {},
   "outputs": [
    {
     "name": "stderr",
     "output_type": "stream",
     "text": [
      "WARNING:absl:At this time, the v2.11+ optimizer `tf.keras.optimizers.SGD` runs slowly on M1/M2 Macs, please use the legacy Keras optimizer instead, located at `tf.keras.optimizers.legacy.SGD`.\n"
     ]
    },
    {
     "name": "stdout",
     "output_type": "stream",
     "text": [
      "trained wegihts & bias \n",
      "weights: 2.4231925\n",
      "bias: 2.1854753\n"
     ]
    }
   ],
   "source": [
    "#gradient descent with tensorflow\n",
    "import tensorflow as tf \n",
    "import numpy as np \n",
    "np.random.seed(40)\n",
    "x=np.linspace(0,10,100)\n",
    "y=2*x+5\n",
    "#convert numpy to tensor\n",
    "x_train=tf.constant(x,dtype=tf.float32)\n",
    "y_train=tf.constant(y,dtype=tf.float32)\n",
    "#initialize weights & bias \n",
    "w=tf.Variable(np.random.randn(),name=\"weight\")\n",
    "b=tf.Variable(np.random.randn(),name=\"bias\")\n",
    "#linear model \n",
    "def linear_model(x):\n",
    "    return w*x+b\n",
    "def mean_squared_error(y_true,y_pred):\n",
    "    return tf.reduce_mean(tf.square(y_true - y_pred))\n",
    "optimizer=tf.optimizers.SGD(learning_rate=0.01)\n",
    "#training loop \n",
    "epochs=100\n",
    "for epoch in range(epochs):\n",
    "    with tf.GradientTape() as tape:\n",
    "        predictions=linear_model(x_train)\n",
    "        loss=mean_squared_error(y_train,predictions)\n",
    "        \n",
    "    gradients=tape.gradient(loss,[w,b]) #compute gradients\n",
    "    optimizer.apply_gradients(zip(gradients,[w,b]))\n",
    "\n",
    "trained_w,trained_b=w.numpy(),b.numpy()\n",
    "print(\"trained wegihts & bias \")\n",
    "print(\"weights:\",trained_w)\n",
    "print(\"bias:\",trained_b)\n",
    "\n"
   ]
  },
  {
   "cell_type": "code",
   "execution_count": 47,
   "metadata": {},
   "outputs": [
    {
     "data": {
      "image/png": "[encoded data removed]",
      "text/plain": [
       "<Figure size 640x480 with 1 Axes>"
      ]
     },
     "metadata": {},
     "output_type": "display_data"
    }
   ],
   "source": [
    "plt.scatter(x_train, y_train, label='Training data')\n",
    "plt.plot(x_train, trained_w * x_train + trained_b, 'r', label='Linear regression model')\n",
    "plt.xlabel('X')\n",
    "plt.ylabel('y')\n",
    "plt.title('Linear Regression with TensorFlow (Gradient Tape)')\n",
    "plt.legend()\n",
    "plt.show()"
   ]
  },
  {
   "cell_type": "code",
   "execution_count": 48,
   "metadata": {},
   "outputs": [],
   "source": [
    "from datetime import datetime\n",
    "# Define TensorBoard log directory\n",
    "log_dir = \"logs/fit/\" + datetime.now().strftime(\"%Y%m%d-%H%M%S\")\n",
    "summary_writer = tf.summary.create_file_writer(log_dir)"
   ]
  },
  {
   "cell_type": "code",
   "execution_count": null,
   "metadata": {},
   "outputs": [],
   "source": []
  }
 ],
 "metadata": {
  "kernelspec": {
   "display_name": "Python 3",
   "language": "python",
   "name": "python3"
  },
  "language_info": {
   "codemirror_mode": {
    "name": "ipython",
    "version": 3
   },
   "file_extension": ".py",
   "mimetype": "text/x-python",
   "name": "python",
   "nbconvert_exporter": "python",
   "pygments_lexer": "ipython3",
   "version": "3.10.13"
  }
 },
 "nbformat": 4,
 "nbformat_minor": 2
}
