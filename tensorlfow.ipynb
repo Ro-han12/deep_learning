{
 "cells": [
  {
   "cell_type": "code",
   "execution_count": 14,
   "metadata": {},
   "outputs": [
    {
     "name": "stdout",
     "output_type": "stream",
     "text": [
      "30.0\n"
     ]
    }
   ],
   "source": [
    "import tensorflow as tf\n",
    "\n",
    "x = tf.constant(10, dtype=tf.float32)\n",
    "y = tf.constant(20, dtype=tf.float32)\n",
    "z = tf.Variable(tf.add(x, y))\n",
    "\n",
    "# No need for global_variables_initializer() in TensorFlow 2.x\n",
    "\n",
    "# TensorFlow 2.x automatically initializes variables when they are used in sessions or functions\n",
    "\n",
    "# Instead of session.run(z), you can simply access the value of z using z.numpy()\n",
    "print(z.numpy())\n"
   ]
  },
  {
   "cell_type": "code",
   "execution_count": null,
   "metadata": {},
   "outputs": [],
   "source": []
  }
 ],
 "metadata": {
  "kernelspec": {
   "display_name": "Python 3",
   "language": "python",
   "name": "python3"
  },
  "language_info": {
   "codemirror_mode": {
    "name": "ipython",
    "version": 3
   },
   "file_extension": ".py",
   "mimetype": "text/x-python",
   "name": "python",
   "nbconvert_exporter": "python",
   "pygments_lexer": "ipython3",
   "version": "3.10.13"
  }
 },
 "nbformat": 4,
 "nbformat_minor": 2
}
