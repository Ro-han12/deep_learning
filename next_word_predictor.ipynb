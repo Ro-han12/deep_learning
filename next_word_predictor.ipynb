{
 "cells": [
  {
   "cell_type": "code",
   "execution_count": 1,
   "metadata": {},
   "outputs": [],
   "source": [
    "faqs = \"\"\"About the Program\n",
    "What is the course fee for  Data Science Mentorship Program (DSMP 2023)\n",
    "The course follows a monthly subscription model where you have to make monthly payments of Rs 799/month.\n",
    "What is the total duration of the course?\n",
    "The total duration of the course is 7 months. So the total course fee becomes 799*7 = Rs 5600(approx.)\n",
    "What is the syllabus of the mentorship program?\n",
    "We will be covering the following modules:\n",
    "Python Fundamentals\n",
    "Python libraries for Data Science\n",
    "Data Analysis\n",
    "SQL for Data Science\n",
    "Maths for Machine Learning\n",
    "ML Algorithms\n",
    "Practical ML\n",
    "MLOPs\n",
    "Case studies\n",
    "You can check the detailed syllabus here - https://learnwith.campusx.in/courses/CampusX-Data-Science-Mentorship-Program-637339afe4b0615a1bbed390\n",
    "Will Deep Learning and NLP be a part of this program?\n",
    "No, NLP and Deep Learning both are not a part of this program’s curriculum.\n",
    "What if I miss a live session? Will I get a recording of the session?\n",
    "Yes all our sessions are recorded, so even if you miss a session you can go back and watch the recording.\n",
    "Where can I find the class schedule?\n",
    "Checkout this google sheet to see month by month time table of the course - https://docs.google.com/spreadsheets/d/16OoTax_A6ORAeCg4emgexhqqPv3noQPYKU7RJ6ArOzk/edit?usp=sharing.\n",
    "What is the time duration of all the live sessions?\n",
    "Roughly, all the sessions last 2 hours.\n",
    "What is the language spoken by the instructor during the sessions?\n",
    "Hinglish\n",
    "How will I be informed about the upcoming class?\n",
    "You will get a mail from our side before every paid session once you become a paid user.\n",
    "Can I do this course if I am from a non-tech background?\n",
    "Yes, absolutely.\n",
    "I am late, can I join the program in the middle?\n",
    "Absolutely, you can join the program anytime.\n",
    "If I join/pay in the middle, will I be able to see all the past lectures?\n",
    "Yes, once you make the payment you will be able to see all the past content in your dashboard.\n",
    "Where do I have to submit the task?\n",
    "You don’t have to submit the task. We will provide you with the solutions, you have to self evaluate the task yourself.\n",
    "Will we do case studies in the program?\n",
    "Yes.\n",
    "Where can we contact you?\n",
    "You can mail us at nitish.campusx@gmail.com\n",
    "Payment/Registration related questions\n",
    "Where do we have to make our payments? Your YouTube channel or website?\n",
    "You have to make all your monthly payments on our website. Here is the link for our website - https://learnwith.campusx.in/\n",
    "Can we pay the entire amount of Rs 5600 all at once?\n",
    "Unfortunately no, the program follows a monthly subscription model.\n",
    "What is the validity of monthly subscription? Suppose if I pay on 15th Jan, then do I have to pay again on 1st Feb or 15th Feb\n",
    "15th Feb. The validity period is 30 days from the day you make the payment. So essentially you can join anytime you don’t have to wait for a month to end.\n",
    "What if I don’t like the course after making the payment. What is the refund policy?\n",
    "You get a 7 days refund period from the day you have made the payment.\n",
    "I am living outside India and I am not able to make the payment on the website, what should I do?\n",
    "You have to contact us by sending a mail at nitish.campusx@gmail.com\n",
    "Post registration queries\n",
    "Till when can I view the paid videos on the website?\n",
    "This one is tricky, so read carefully. You can watch the videos till your subscription is valid. Suppose you have purchased subscription on 21st Jan, you will be able to watch all the past paid sessions in the period of 21st Jan to 20th Feb. But after 21st Feb you will have to purchase the subscription again.\n",
    "But once the course is over and you have paid us Rs 5600(or 7 installments of Rs 799) you will be able to watch the paid sessions till Aug 2024.\n",
    "Why lifetime validity is not provided?\n",
    "Because of the low course fee.\n",
    "Where can I reach out in case of a doubt after the session?\n",
    "You will have to fill a google form provided in your dashboard and our team will contact you for a 1 on 1 doubt clearance session\n",
    "If I join the program late, can I still ask past week doubts?\n",
    "Yes, just select past week doubt in the doubt clearance google form.\n",
    "I am living outside India and I am not able to make the payment on the website, what should I do?\n",
    "You have to contact us by sending a mail at nitish.campusx@gmai.com\n",
    "Certificate and Placement Assistance related queries\n",
    "What is the criteria to get the certificate?\n",
    "There are 2 criterias:\n",
    "You have to pay the entire fee of Rs 5600\n",
    "You have to attempt all the course assessments.\n",
    "I am joining late. How can I pay payment of the earlier months?\n",
    "You will get a link to pay fee of earlier months in your dashboard once you pay for the current month.\n",
    "I have read that Placement assistance is a part of this program. What comes under Placement assistance?\n",
    "This is to clarify that Placement assistance does not mean Placement guarantee. So we dont guarantee you any jobs or for that matter even interview calls. So if you are planning to join this course just for placements, I am afraid you will be disappointed. Here is what comes under placement assistance\n",
    "Portfolio Building sessions\n",
    "Soft skill sessions\n",
    "Sessions with industry mentors\n",
    "Discussion on Job hunting strategies\n",
    "\"\"\""
   ]
  },
  {
   "cell_type": "code",
   "execution_count": 2,
   "metadata": {},
   "outputs": [],
   "source": [
    "import tensorflow as tf \n",
    "from tensorflow.keras.preprocessing.text import Tokenizer\n",
    "tokenizer=Tokenizer()\n",
    "tokenizer.fit_on_texts([faqs])"
   ]
  },
  {
   "cell_type": "code",
   "execution_count": 3,
   "metadata": {},
   "outputs": [
    {
     "data": {
      "text/plain": [
       "282"
      ]
     },
     "execution_count": 3,
     "metadata": {},
     "output_type": "execute_result"
    }
   ],
   "source": [
    "len(tokenizer.word_index)"
   ]
  },
  {
   "cell_type": "code",
   "execution_count": 4,
   "metadata": {},
   "outputs": [],
   "source": [
    "input_sequences=[]\n",
    "for sentence in faqs.split('\\n'):\n",
    "    tokenized_sentence=tokenizer.texts_to_sequences([sentence])[0]\n",
    "    for i in range(1,len(tokenized_sentence)):\n",
    "        input_sequences.append(tokenized_sentence[:i+1])\n",
    "    "
   ]
  },
  {
   "cell_type": "code",
   "execution_count": 5,
   "metadata": {},
   "outputs": [],
   "source": [
    "# input_sequences"
   ]
  },
  {
   "cell_type": "code",
   "execution_count": 6,
   "metadata": {},
   "outputs": [],
   "source": [
    "max_len=max([len(x) for x in input_sequences])"
   ]
  },
  {
   "cell_type": "code",
   "execution_count": 7,
   "metadata": {},
   "outputs": [
    {
     "data": {
      "text/plain": [
       "array([[  0,   0,   0, ...,   0,  93,   1],\n",
       "       [  0,   0,   0, ...,  93,   1,  13],\n",
       "       [  0,   0,   0, ...,   0,  11,   7],\n",
       "       ...,\n",
       "       [  0,   0,   0, ..., 279,  18, 280],\n",
       "       [  0,   0,   0, ...,  18, 280, 281],\n",
       "       [  0,   0,   0, ..., 280, 281, 282]], dtype=int32)"
      ]
     },
     "execution_count": 7,
     "metadata": {},
     "output_type": "execute_result"
    }
   ],
   "source": [
    "from tensorflow.keras.preprocessing.sequence import pad_sequences\n",
    "padded_input_sequences=pad_sequences(input_sequences,maxlen=max_len,padding='pre')\n",
    "padded_input_sequences"
   ]
  },
  {
   "cell_type": "code",
   "execution_count": 8,
   "metadata": {},
   "outputs": [],
   "source": [
    "x=padded_input_sequences[:,:-1]\n",
    "y=padded_input_sequences[:,-1]"
   ]
  },
  {
   "cell_type": "code",
   "execution_count": 9,
   "metadata": {},
   "outputs": [
    {
     "name": "stdout",
     "output_type": "stream",
     "text": [
      "(863, 56)\n",
      "(863,)\n"
     ]
    }
   ],
   "source": [
    "print(x.shape)\n",
    "print(y.shape)"
   ]
  },
  {
   "cell_type": "code",
   "execution_count": 10,
   "metadata": {},
   "outputs": [
    {
     "data": {
      "text/plain": [
       "(863, 283)"
      ]
     },
     "execution_count": 10,
     "metadata": {},
     "output_type": "execute_result"
    }
   ],
   "source": [
    "from tensorflow.keras.utils import to_categorical\n",
    "y=to_categorical(y,num_classes=283)\n",
    "y.shape\n"
   ]
  },
  {
   "cell_type": "code",
   "execution_count": 11,
   "metadata": {},
   "outputs": [
    {
     "name": "stderr",
     "output_type": "stream",
     "text": [
      "2024-06-02 18:59:14.070967: I metal_plugin/src/device/metal_device.cc:1154] Metal device set to: Apple M1\n",
      "2024-06-02 18:59:14.071095: I metal_plugin/src/device/metal_device.cc:296] systemMemory: 8.00 GB\n",
      "2024-06-02 18:59:14.071116: I metal_plugin/src/device/metal_device.cc:313] maxCacheSize: 2.67 GB\n",
      "2024-06-02 18:59:14.071583: I tensorflow/core/common_runtime/pluggable_device/pluggable_device_factory.cc:306] Could not identify NUMA node of platform GPU ID 0, defaulting to 0. Your kernel may not have been built with NUMA support.\n",
      "2024-06-02 18:59:14.072181: I tensorflow/core/common_runtime/pluggable_device/pluggable_device_factory.cc:272] Created TensorFlow device (/job:localhost/replica:0/task:0/device:GPU:0 with 0 MB memory) -> physical PluggableDevice (device: 0, name: METAL, pci bus id: <undefined>)\n"
     ]
    }
   ],
   "source": [
    "from tensorflow.keras.models import Sequential\n",
    "from tensorflow.keras.layers import Embedding,LSTM,Dense\n",
    "model=Sequential()\n",
    "model.add(Embedding(283,100,input_length=56))\n",
    "model.add(LSTM(150))\n",
    "model.add(Dense(283,activation='softmax'))"
   ]
  },
  {
   "cell_type": "code",
   "execution_count": 12,
   "metadata": {},
   "outputs": [],
   "source": [
    "model.compile(loss='categorical_crossentropy',optimizer='adam',metrics=['accuracy'])"
   ]
  },
  {
   "cell_type": "code",
   "execution_count": 13,
   "metadata": {},
   "outputs": [
    {
     "name": "stdout",
     "output_type": "stream",
     "text": [
      "Model: \"sequential\"\n",
      "_________________________________________________________________\n",
      " Layer (type)                Output Shape              Param #   \n",
      "=================================================================\n",
      " embedding (Embedding)       (None, 56, 100)           28300     \n",
      "                                                                 \n",
      " lstm (LSTM)                 (None, 150)               150600    \n",
      "                                                                 \n",
      " dense (Dense)               (None, 283)               42733     \n",
      "                                                                 \n",
      "=================================================================\n",
      "Total params: 221633 (865.75 KB)\n",
      "Trainable params: 221633 (865.75 KB)\n",
      "Non-trainable params: 0 (0.00 Byte)\n",
      "_________________________________________________________________\n"
     ]
    }
   ],
   "source": [
    "model.summary()"
   ]
  },
  {
   "cell_type": "code",
   "execution_count": 16,
   "metadata": {},
   "outputs": [
    {
     "name": "stdout",
     "output_type": "stream",
     "text": [
      "Epoch 1/100\n",
      "27/27 [==============================] - 1s 32ms/step - loss: 3.0585 - accuracy: 0.3488\n",
      "Epoch 2/100\n",
      "27/27 [==============================] - 1s 31ms/step - loss: 2.8378 - accuracy: 0.3754\n",
      "Epoch 3/100\n",
      "27/27 [==============================] - 1s 31ms/step - loss: 2.6536 - accuracy: 0.4044\n",
      "Epoch 4/100\n",
      "27/27 [==============================] - 1s 30ms/step - loss: 2.4495 - accuracy: 0.4484\n",
      "Epoch 5/100\n",
      "27/27 [==============================] - 1s 29ms/step - loss: 2.2900 - accuracy: 0.4890\n",
      "Epoch 6/100\n",
      "27/27 [==============================] - 1s 30ms/step - loss: 2.1293 - accuracy: 0.5435\n",
      "Epoch 7/100\n",
      "27/27 [==============================] - 1s 30ms/step - loss: 1.9722 - accuracy: 0.5747\n",
      "Epoch 8/100\n",
      "27/27 [==============================] - 1s 29ms/step - loss: 1.8244 - accuracy: 0.5991\n",
      "Epoch 9/100\n",
      "27/27 [==============================] - 1s 29ms/step - loss: 1.7035 - accuracy: 0.6396\n",
      "Epoch 10/100\n",
      "27/27 [==============================] - 1s 30ms/step - loss: 1.5851 - accuracy: 0.6790\n",
      "Epoch 11/100\n",
      "27/27 [==============================] - 1s 28ms/step - loss: 1.4623 - accuracy: 0.7068\n",
      "Epoch 12/100\n",
      "27/27 [==============================] - 1s 29ms/step - loss: 1.3651 - accuracy: 0.7393\n",
      "Epoch 13/100\n",
      "27/27 [==============================] - 1s 30ms/step - loss: 1.2665 - accuracy: 0.7625\n",
      "Epoch 14/100\n",
      "27/27 [==============================] - 1s 29ms/step - loss: 1.1762 - accuracy: 0.7926\n",
      "Epoch 15/100\n",
      "27/27 [==============================] - 1s 29ms/step - loss: 1.0984 - accuracy: 0.8065\n",
      "Epoch 16/100\n",
      "27/27 [==============================] - 1s 29ms/step - loss: 1.0208 - accuracy: 0.8262\n",
      "Epoch 17/100\n",
      "27/27 [==============================] - 1s 30ms/step - loss: 0.9518 - accuracy: 0.8563\n",
      "Epoch 18/100\n",
      "27/27 [==============================] - 1s 29ms/step - loss: 0.8887 - accuracy: 0.8691\n",
      "Epoch 19/100\n",
      "27/27 [==============================] - 1s 29ms/step - loss: 0.8270 - accuracy: 0.8795\n",
      "Epoch 20/100\n",
      "27/27 [==============================] - 1s 29ms/step - loss: 0.7787 - accuracy: 0.8899\n",
      "Epoch 21/100\n",
      "27/27 [==============================] - 1s 30ms/step - loss: 0.7242 - accuracy: 0.9003\n",
      "Epoch 22/100\n",
      "27/27 [==============================] - 1s 29ms/step - loss: 0.6848 - accuracy: 0.9073\n",
      "Epoch 23/100\n",
      "27/27 [==============================] - 1s 29ms/step - loss: 0.6424 - accuracy: 0.9154\n",
      "Epoch 24/100\n",
      "27/27 [==============================] - 1s 29ms/step - loss: 0.6033 - accuracy: 0.9212\n",
      "Epoch 25/100\n",
      "27/27 [==============================] - 1s 29ms/step - loss: 0.5667 - accuracy: 0.9212\n",
      "Epoch 26/100\n",
      "27/27 [==============================] - 1s 28ms/step - loss: 0.5351 - accuracy: 0.9177\n",
      "Epoch 27/100\n",
      "27/27 [==============================] - 1s 28ms/step - loss: 0.5075 - accuracy: 0.9282\n",
      "Epoch 28/100\n",
      "27/27 [==============================] - 1s 29ms/step - loss: 0.4766 - accuracy: 0.9351\n",
      "Epoch 29/100\n",
      "27/27 [==============================] - 1s 29ms/step - loss: 0.4536 - accuracy: 0.9328\n",
      "Epoch 30/100\n",
      "27/27 [==============================] - 1s 29ms/step - loss: 0.4298 - accuracy: 0.9340\n",
      "Epoch 31/100\n",
      "27/27 [==============================] - 1s 27ms/step - loss: 0.4111 - accuracy: 0.9351\n",
      "Epoch 32/100\n",
      "27/27 [==============================] - 1s 30ms/step - loss: 0.3906 - accuracy: 0.9421\n",
      "Epoch 33/100\n",
      "27/27 [==============================] - 1s 30ms/step - loss: 0.3739 - accuracy: 0.9432\n",
      "Epoch 34/100\n",
      "27/27 [==============================] - 1s 29ms/step - loss: 0.3558 - accuracy: 0.9409\n",
      "Epoch 35/100\n",
      "27/27 [==============================] - 1s 30ms/step - loss: 0.3426 - accuracy: 0.9409\n",
      "Epoch 36/100\n",
      "27/27 [==============================] - 1s 29ms/step - loss: 0.3293 - accuracy: 0.9421\n",
      "Epoch 37/100\n",
      "27/27 [==============================] - 1s 36ms/step - loss: 0.3127 - accuracy: 0.9479\n",
      "Epoch 38/100\n",
      "27/27 [==============================] - 1s 51ms/step - loss: 0.3020 - accuracy: 0.9444\n",
      "Epoch 39/100\n",
      "27/27 [==============================] - 1s 31ms/step - loss: 0.2910 - accuracy: 0.9467\n",
      "Epoch 40/100\n",
      "27/27 [==============================] - 1s 32ms/step - loss: 0.2823 - accuracy: 0.9479\n",
      "Epoch 41/100\n",
      "27/27 [==============================] - 1s 31ms/step - loss: 0.2710 - accuracy: 0.9455\n",
      "Epoch 42/100\n",
      "27/27 [==============================] - 1s 29ms/step - loss: 0.2620 - accuracy: 0.9455\n",
      "Epoch 43/100\n",
      "27/27 [==============================] - 1s 30ms/step - loss: 0.2550 - accuracy: 0.9455\n",
      "Epoch 44/100\n",
      "27/27 [==============================] - 1s 29ms/step - loss: 0.2481 - accuracy: 0.9479\n",
      "Epoch 45/100\n",
      "27/27 [==============================] - 1s 30ms/step - loss: 0.2419 - accuracy: 0.9421\n",
      "Epoch 46/100\n",
      "27/27 [==============================] - 1s 29ms/step - loss: 0.2321 - accuracy: 0.9455\n",
      "Epoch 47/100\n",
      "27/27 [==============================] - 1s 29ms/step - loss: 0.2281 - accuracy: 0.9455\n",
      "Epoch 48/100\n",
      "27/27 [==============================] - 1s 29ms/step - loss: 0.2232 - accuracy: 0.9409\n",
      "Epoch 49/100\n",
      "27/27 [==============================] - 1s 31ms/step - loss: 0.2181 - accuracy: 0.9421\n",
      "Epoch 50/100\n",
      "27/27 [==============================] - 1s 42ms/step - loss: 0.2117 - accuracy: 0.9455\n",
      "Epoch 51/100\n",
      "27/27 [==============================] - 1s 31ms/step - loss: 0.2088 - accuracy: 0.9409\n",
      "Epoch 52/100\n",
      "27/27 [==============================] - 1s 29ms/step - loss: 0.2035 - accuracy: 0.9421\n",
      "Epoch 53/100\n",
      "27/27 [==============================] - 1s 29ms/step - loss: 0.2002 - accuracy: 0.9409\n",
      "Epoch 54/100\n",
      "27/27 [==============================] - 1s 29ms/step - loss: 0.1930 - accuracy: 0.9502\n",
      "Epoch 55/100\n",
      "27/27 [==============================] - 1s 29ms/step - loss: 0.1892 - accuracy: 0.9467\n",
      "Epoch 56/100\n",
      "27/27 [==============================] - 1s 29ms/step - loss: 0.1862 - accuracy: 0.9432\n",
      "Epoch 57/100\n",
      "27/27 [==============================] - 1s 29ms/step - loss: 0.1822 - accuracy: 0.9479\n",
      "Epoch 58/100\n",
      "27/27 [==============================] - 1s 30ms/step - loss: 0.1794 - accuracy: 0.9479\n",
      "Epoch 59/100\n",
      "27/27 [==============================] - 1s 31ms/step - loss: 0.1790 - accuracy: 0.9363\n",
      "Epoch 60/100\n",
      "27/27 [==============================] - 1s 30ms/step - loss: 0.1754 - accuracy: 0.9444\n",
      "Epoch 61/100\n",
      "27/27 [==============================] - 1s 33ms/step - loss: 0.1729 - accuracy: 0.9444\n",
      "Epoch 62/100\n",
      "27/27 [==============================] - 1s 30ms/step - loss: 0.1706 - accuracy: 0.9444\n",
      "Epoch 63/100\n",
      "27/27 [==============================] - 1s 30ms/step - loss: 0.1709 - accuracy: 0.9421\n",
      "Epoch 64/100\n",
      "27/27 [==============================] - 1s 30ms/step - loss: 0.1661 - accuracy: 0.9455\n",
      "Epoch 65/100\n",
      "27/27 [==============================] - 1s 30ms/step - loss: 0.1625 - accuracy: 0.9444\n",
      "Epoch 66/100\n",
      "27/27 [==============================] - 1s 30ms/step - loss: 0.1598 - accuracy: 0.9502\n",
      "Epoch 67/100\n",
      "27/27 [==============================] - 1s 28ms/step - loss: 0.1603 - accuracy: 0.9421\n",
      "Epoch 68/100\n",
      "27/27 [==============================] - 1s 30ms/step - loss: 0.1567 - accuracy: 0.9479\n",
      "Epoch 69/100\n",
      "27/27 [==============================] - 1s 30ms/step - loss: 0.1527 - accuracy: 0.9444\n",
      "Epoch 70/100\n",
      "27/27 [==============================] - 1s 31ms/step - loss: 0.1513 - accuracy: 0.9455\n",
      "Epoch 71/100\n",
      "27/27 [==============================] - 1s 29ms/step - loss: 0.1519 - accuracy: 0.9467\n",
      "Epoch 72/100\n",
      "27/27 [==============================] - 1s 29ms/step - loss: 0.1509 - accuracy: 0.9374\n",
      "Epoch 73/100\n",
      "27/27 [==============================] - 1s 30ms/step - loss: 0.1495 - accuracy: 0.9479\n",
      "Epoch 74/100\n",
      "27/27 [==============================] - 1s 31ms/step - loss: 0.1462 - accuracy: 0.9432\n",
      "Epoch 75/100\n",
      "27/27 [==============================] - 1s 45ms/step - loss: 0.1462 - accuracy: 0.9444\n",
      "Epoch 76/100\n",
      "27/27 [==============================] - 1s 46ms/step - loss: 0.1475 - accuracy: 0.9455\n",
      "Epoch 77/100\n",
      "27/27 [==============================] - 1s 30ms/step - loss: 0.1435 - accuracy: 0.9421\n",
      "Epoch 78/100\n",
      "27/27 [==============================] - 1s 30ms/step - loss: 0.1412 - accuracy: 0.9455\n",
      "Epoch 79/100\n",
      "27/27 [==============================] - 1s 30ms/step - loss: 0.1397 - accuracy: 0.9455\n",
      "Epoch 80/100\n",
      "27/27 [==============================] - 1s 29ms/step - loss: 0.1419 - accuracy: 0.9432\n",
      "Epoch 81/100\n",
      "27/27 [==============================] - 1s 29ms/step - loss: 0.1388 - accuracy: 0.9525\n",
      "Epoch 82/100\n",
      "27/27 [==============================] - 1s 30ms/step - loss: 0.1395 - accuracy: 0.9432\n",
      "Epoch 83/100\n",
      "27/27 [==============================] - 1s 28ms/step - loss: 0.1386 - accuracy: 0.9444\n",
      "Epoch 84/100\n",
      "27/27 [==============================] - 1s 30ms/step - loss: 0.1378 - accuracy: 0.9467\n",
      "Epoch 85/100\n",
      "27/27 [==============================] - 1s 31ms/step - loss: 0.1336 - accuracy: 0.9455\n",
      "Epoch 86/100\n",
      "27/27 [==============================] - 1s 30ms/step - loss: 0.1368 - accuracy: 0.9421\n",
      "Epoch 87/100\n",
      "27/27 [==============================] - 1s 29ms/step - loss: 0.1315 - accuracy: 0.9490\n",
      "Epoch 88/100\n",
      "27/27 [==============================] - 1s 29ms/step - loss: 0.1322 - accuracy: 0.9479\n",
      "Epoch 89/100\n",
      "27/27 [==============================] - 1s 30ms/step - loss: 0.1318 - accuracy: 0.9479\n",
      "Epoch 90/100\n",
      "27/27 [==============================] - 1s 29ms/step - loss: 0.1323 - accuracy: 0.9421\n",
      "Epoch 91/100\n",
      "27/27 [==============================] - 1s 29ms/step - loss: 0.1292 - accuracy: 0.9467\n",
      "Epoch 92/100\n",
      "27/27 [==============================] - 1s 28ms/step - loss: 0.1300 - accuracy: 0.9432\n",
      "Epoch 93/100\n",
      "27/27 [==============================] - 1s 30ms/step - loss: 0.1300 - accuracy: 0.9421\n",
      "Epoch 94/100\n",
      "27/27 [==============================] - 1s 29ms/step - loss: 0.1277 - accuracy: 0.9455\n",
      "Epoch 95/100\n",
      "27/27 [==============================] - 1s 30ms/step - loss: 0.1256 - accuracy: 0.9455\n",
      "Epoch 96/100\n",
      "27/27 [==============================] - 1s 30ms/step - loss: 0.1267 - accuracy: 0.9455\n",
      "Epoch 97/100\n",
      "27/27 [==============================] - 1s 30ms/step - loss: 0.1250 - accuracy: 0.9421\n",
      "Epoch 98/100\n",
      "27/27 [==============================] - 1s 31ms/step - loss: 0.1260 - accuracy: 0.9444\n",
      "Epoch 99/100\n",
      "27/27 [==============================] - 1s 30ms/step - loss: 0.1250 - accuracy: 0.9432\n",
      "Epoch 100/100\n",
      "27/27 [==============================] - 1s 32ms/step - loss: 0.1242 - accuracy: 0.9432\n"
     ]
    },
    {
     "data": {
      "text/plain": [
       "<keras.src.callbacks.History at 0x354f81cf0>"
      ]
     },
     "execution_count": 16,
     "metadata": {},
     "output_type": "execute_result"
    }
   ],
   "source": [
    "model.fit(x,y,epochs=100)"
   ]
  },
  {
   "cell_type": "code",
   "execution_count": 29,
   "metadata": {},
   "outputs": [
    {
     "name": "stdout",
     "output_type": "stream",
     "text": [
      "1/1 [==============================] - 0s 20ms/step\n",
      "Why lifetime validity is not provided provided\n",
      "1/1 [==============================] - 0s 21ms/step\n",
      "Why lifetime validity is not provided provided so\n",
      "1/1 [==============================] - 0s 21ms/step\n",
      "Why lifetime validity is not provided provided so the\n",
      "1/1 [==============================] - 0s 20ms/step\n",
      "Why lifetime validity is not provided provided so the session\n",
      "1/1 [==============================] - 0s 22ms/step\n",
      "Why lifetime validity is not provided provided so the session you\n",
      "1/1 [==============================] - 0s 21ms/step\n",
      "Why lifetime validity is not provided provided so the session you can\n",
      "1/1 [==============================] - 0s 21ms/step\n",
      "Why lifetime validity is not provided provided so the session you can go\n",
      "1/1 [==============================] - 0s 19ms/step\n",
      "Why lifetime validity is not provided provided so the session you can go back\n",
      "1/1 [==============================] - 0s 21ms/step\n",
      "Why lifetime validity is not provided provided so the session you can go back and\n",
      "1/1 [==============================] - 0s 21ms/step\n",
      "Why lifetime validity is not provided provided so the session you can go back and watch\n"
     ]
    }
   ],
   "source": [
    "import numpy as np\n",
    "import time\n",
    "text='Why lifetime validity is not provided'\n",
    "for i in range(10):\n",
    "    token_text=tokenizer.texts_to_sequences([text])[0]\n",
    "    padded_token_text=pad_sequences([token_text],maxlen=56,padding='pre')\n",
    "    pos=np.argmax(model.predict(padded_token_text))\n",
    "    for word,index in tokenizer.word_index.items():\n",
    "        if index==pos:\n",
    "            text=text + \" \" + word\n",
    "            print(text)\n",
    "            time.sleep(1)"
   ]
  }
 ],
 "metadata": {
  "kernelspec": {
   "display_name": "google",
   "language": "python",
   "name": "python3"
  },
  "language_info": {
   "codemirror_mode": {
    "name": "ipython",
    "version": 3
   },
   "file_extension": ".py",
   "mimetype": "text/x-python",
   "name": "python",
   "nbconvert_exporter": "python",
   "pygments_lexer": "ipython3",
   "version": "3.10.13"
  }
 },
 "nbformat": 4,
 "nbformat_minor": 2
}
