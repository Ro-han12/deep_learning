{
 "cells": [
  {
   "cell_type": "markdown",
   "metadata": {},
   "source": [
    "no zero weight at  initial step\n",
    "no random weights with small weight -> vanishing gradient\n",
    "no random weights with large weight -> exploding gradient"
   ]
  }
 ],
 "metadata": {
  "language_info": {
   "name": "python"
  }
 },
 "nbformat": 4,
 "nbformat_minor": 2
}
