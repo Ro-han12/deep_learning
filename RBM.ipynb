{
 "cells": [
  {
   "cell_type": "code",
   "execution_count": 6,
   "metadata": {},
   "outputs": [
    {
     "name": "stdout",
     "output_type": "stream",
     "text": [
      "[BernoulliRBM] Iteration 1, pseudo-likelihood = -74510.96, time = 40.51s\n",
      "[BernoulliRBM] Iteration 2, pseudo-likelihood = -136709.56, time = 34.33s\n",
      "[BernoulliRBM] Iteration 3, pseudo-likelihood = -217563.22, time = 36.17s\n",
      "[BernoulliRBM] Iteration 4, pseudo-likelihood = -279544.35, time = 31.83s\n",
      "[BernoulliRBM] Iteration 5, pseudo-likelihood = -342311.66, time = 32.75s\n",
      "[BernoulliRBM] Iteration 6, pseudo-likelihood = -445336.91, time = 35.41s\n",
      "[BernoulliRBM] Iteration 7, pseudo-likelihood = -475387.81, time = 33.67s\n",
      "[BernoulliRBM] Iteration 8, pseudo-likelihood = -543829.77, time = 32.39s\n",
      "[BernoulliRBM] Iteration 9, pseudo-likelihood = -655530.10, time = 33.26s\n",
      "[BernoulliRBM] Iteration 10, pseudo-likelihood = -692187.15, time = 34.39s\n",
      "[BernoulliRBM] Iteration 11, pseudo-likelihood = -741407.16, time = 39.12s\n",
      "[BernoulliRBM] Iteration 12, pseudo-likelihood = -815757.00, time = 40.56s\n",
      "[BernoulliRBM] Iteration 13, pseudo-likelihood = -904240.19, time = 31.66s\n",
      "[BernoulliRBM] Iteration 14, pseudo-likelihood = -992819.70, time = 33.05s\n",
      "[BernoulliRBM] Iteration 15, pseudo-likelihood = -1092111.02, time = 32.88s\n",
      "[BernoulliRBM] Iteration 16, pseudo-likelihood = -1150408.58, time = 33.46s\n",
      "[BernoulliRBM] Iteration 17, pseudo-likelihood = -1215542.00, time = 32.79s\n",
      "[BernoulliRBM] Iteration 18, pseudo-likelihood = -1196743.16, time = 32.74s\n",
      "[BernoulliRBM] Iteration 19, pseudo-likelihood = -1405028.03, time = 38.31s\n",
      "[BernoulliRBM] Iteration 20, pseudo-likelihood = -1437193.68, time = 39.52s\n",
      "DBN Classification score: 0.21335714285714286\n"
     ]
    },
    {
     "name": "stderr",
     "output_type": "stream",
     "text": [
      "/Users/rohansridhar/miniforge3/envs/google/lib/python3.10/site-packages/sklearn/linear_model/_logistic.py:469: ConvergenceWarning: lbfgs failed to converge (status=1):\n",
      "STOP: TOTAL NO. of ITERATIONS REACHED LIMIT.\n",
      "\n",
      "Increase the number of iterations (max_iter) or scale the data as shown in:\n",
      "    https://scikit-learn.org/stable/modules/preprocessing.html\n",
      "Please also refer to the documentation for alternative solver options:\n",
      "    https://scikit-learn.org/stable/modules/linear_model.html#logistic-regression\n",
      "  n_iter_i = _check_optimize_result(\n"
     ]
    }
   ],
   "source": [
    "import numpy as np\n",
    "import pandas as pd\n",
    "from sklearn.datasets import fetch_openml\n",
    "from sklearn.model_selection import train_test_split\n",
    "from sklearn.preprocessing import StandardScaler\n",
    "from sklearn.neural_network import BernoulliRBM\n",
    "from sklearn.pipeline import Pipeline\n",
    "from sklearn.linear_model import LogisticRegression\n",
    "\n",
    "\n",
    "# Load the dataset\n",
    "mnist = fetch_openml('mnist_784', version=1)\n",
    "X, y = mnist['data'], mnist['target']\n",
    "\n",
    "# Split the dataset into training and test sets\n",
    "X_train, X_test, y_train, y_test = train_test_split(\n",
    "\tX, y, test_size=0.2, random_state=42)\n",
    "\n",
    "# Preprocess the data by scaling it\n",
    "scaler = StandardScaler()\n",
    "X_train_scaled = scaler.fit_transform(X_train)\n",
    "X_test_scaled = scaler.transform(X_test)\n",
    "\n",
    "# Initialize the RBM model\n",
    "rbm = BernoulliRBM(n_components=256, learning_rate=0.01, n_iter=20, verbose=1)\n",
    "# Initialize the logistic regression model\n",
    "logistic = LogisticRegression(max_iter=1000)\n",
    "# Create a pipeline that first extracts features using the RBM and then classifies with logistic regression\n",
    "dbn_pipeline = Pipeline(steps=[('rbm', rbm), ('logistic', logistic)])\n",
    "# Train the DBN\n",
    "dbn_pipeline.fit(X_train_scaled, y_train)\n",
    "\n",
    "# Evaluate the model on the test set\n",
    "dbn_score = dbn_pipeline.score(X_test_scaled, y_test)\n",
    "print(f\"DBN Classification score: {dbn_score}\")\n"
   ]
  },
  {
   "cell_type": "code",
   "execution_count": null,
   "metadata": {},
   "outputs": [],
   "source": []
  }
 ],
 "metadata": {
  "kernelspec": {
   "display_name": "google",
   "language": "python",
   "name": "python3"
  },
  "language_info": {
   "codemirror_mode": {
    "name": "ipython",
    "version": 3
   },
   "file_extension": ".py",
   "mimetype": "text/x-python",
   "name": "python",
   "nbconvert_exporter": "python",
   "pygments_lexer": "ipython3",
   "version": "3.10.13"
  }
 },
 "nbformat": 4,
 "nbformat_minor": 2
}
