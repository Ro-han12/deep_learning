{
 "cells": [
  {
   "cell_type": "code",
   "execution_count": 1,
   "metadata": {},
   "outputs": [],
   "source": [
    "from sklearn.base import BaseEstimator\n",
    "import numpy as np\n",
    "\n",
    "class SelfLearningModel(BaseEstimator):\n",
    "    def __init__(self, basemodel, max_iter=200, prob_threshold=0.8):\n",
    "        self.model = basemodel\n",
    "        self.max_iter = max_iter\n",
    "        self.prob_threshold = prob_threshold\n",
    "        \n",
    "    def fit(self, X, y):\n",
    "        labeled_mask = y != -1\n",
    "        labeled_X, labeled_y = X[labeled_mask], y[labeled_mask]\n",
    "        unlabeled_X = X[~labeled_mask]\n",
    "        self.model.fit(labeled_X, labeled_y)\n",
    "        \n",
    "        for _ in range(self.max_iter):\n",
    "            unlabeled_y = self.model.predict(unlabeled_X)\n",
    "            unlabeled_prob = np.max(self.model.predict_proba(unlabeled_X), axis=1)\n",
    "            confident_indices = unlabeled_prob > self.prob_threshold\n",
    "            if not np.any(confident_indices):\n",
    "                break\n",
    "            labeled_X = np.vstack([labeled_X, unlabeled_X[confident_indices]])\n",
    "            labeled_y = np.hstack([labeled_y, unlabeled_y[confident_indices]])\n",
    "            unlabeled_X = unlabeled_X[~confident_indices]\n",
    "        return self\n"
   ]
  }
 ],
 "metadata": {
  "kernelspec": {
   "display_name": "google",
   "language": "python",
   "name": "python3"
  },
  "language_info": {
   "codemirror_mode": {
    "name": "ipython",
    "version": 3
   },
   "file_extension": ".py",
   "mimetype": "text/x-python",
   "name": "python",
   "nbconvert_exporter": "python",
   "pygments_lexer": "ipython3",
   "version": "3.10.13"
  }
 },
 "nbformat": 4,
 "nbformat_minor": 2
}
