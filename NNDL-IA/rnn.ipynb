{
 "cells": [
  {
   "cell_type": "code",
   "execution_count": 1,
   "metadata": {},
   "outputs": [],
   "source": [
    "import tensorflow as tf\n",
    "from tensorflow.keras.models import Sequential\n",
    "from tensorflow.keras.layers import SimpleRNN, Dense\n",
    "from tensorflow.keras.optimizers import Adam\n"
   ]
  },
  {
   "cell_type": "code",
   "execution_count": 2,
   "metadata": {},
   "outputs": [],
   "source": [
    "import numpy as np\n",
    "\n",
    "# Generating random data: 1000 sequences of 10 steps, each step with 5 features\n",
    "np.random.seed(1)\n",
    "X = np.random.rand(1000, 10, 5)  # (batch_size, sequence_length, input_dimension)\n",
    "\n",
    "# Random binary labels for each sequence\n",
    "Y = np.random.randint(2, size=(1000, 1))  # Binary classification\n"
   ]
  },
  {
   "cell_type": "code",
   "execution_count": 3,
   "metadata": {},
   "outputs": [
    {
     "name": "stderr",
     "output_type": "stream",
     "text": [
      "2024-04-19 09:27:08.934583: I metal_plugin/src/device/metal_device.cc:1154] Metal device set to: Apple M1\n",
      "2024-04-19 09:27:08.934633: I metal_plugin/src/device/metal_device.cc:296] systemMemory: 8.00 GB\n",
      "2024-04-19 09:27:08.934644: I metal_plugin/src/device/metal_device.cc:313] maxCacheSize: 2.67 GB\n",
      "2024-04-19 09:27:08.934938: I tensorflow/core/common_runtime/pluggable_device/pluggable_device_factory.cc:306] Could not identify NUMA node of platform GPU ID 0, defaulting to 0. Your kernel may not have been built with NUMA support.\n",
      "2024-04-19 09:27:08.935417: I tensorflow/core/common_runtime/pluggable_device/pluggable_device_factory.cc:272] Created TensorFlow device (/job:localhost/replica:0/task:0/device:GPU:0 with 0 MB memory) -> physical PluggableDevice (device: 0, name: METAL, pci bus id: <undefined>)\n"
     ]
    }
   ],
   "source": [
    "# Build the model\n",
    "model = Sequential([\n",
    "    SimpleRNN(50, input_shape=(10, 5), return_sequences=False),  # 50 hidden units, input_shape = (sequence_length, input_dimension)\n",
    "    Dense(1, activation='sigmoid')  # Output layer for binary classification\n",
    "])\n",
    "\n",
    "# Compile the model\n",
    "model.compile(optimizer='adam', loss='binary_crossentropy', metrics=['accuracy'])\n"
   ]
  },
  {
   "cell_type": "code",
   "execution_count": 4,
   "metadata": {},
   "outputs": [
    {
     "name": "stdout",
     "output_type": "stream",
     "text": [
      "Epoch 1/10\n"
     ]
    },
    {
     "name": "stderr",
     "output_type": "stream",
     "text": [
      "2024-04-19 09:27:17.147586: I tensorflow/core/grappler/optimizers/custom_graph_optimizer_registry.cc:117] Plugin optimizer for device_type GPU is enabled.\n"
     ]
    },
    {
     "name": "stdout",
     "output_type": "stream",
     "text": [
      "16/16 [==============================] - 8s 116ms/step - loss: 0.7073 - accuracy: 0.5150\n",
      "Epoch 2/10\n",
      "16/16 [==============================] - 1s 54ms/step - loss: 0.6949 - accuracy: 0.5140\n",
      "Epoch 3/10\n",
      "16/16 [==============================] - 1s 51ms/step - loss: 0.6889 - accuracy: 0.5440\n",
      "Epoch 4/10\n",
      "16/16 [==============================] - 1s 60ms/step - loss: 0.6857 - accuracy: 0.5540\n",
      "Epoch 5/10\n",
      "16/16 [==============================] - 1s 80ms/step - loss: 0.6819 - accuracy: 0.5620\n",
      "Epoch 6/10\n",
      "16/16 [==============================] - 1s 72ms/step - loss: 0.6785 - accuracy: 0.5740\n",
      "Epoch 7/10\n",
      "16/16 [==============================] - 1s 72ms/step - loss: 0.6775 - accuracy: 0.5710\n",
      "Epoch 8/10\n",
      "16/16 [==============================] - 1s 69ms/step - loss: 0.6720 - accuracy: 0.5910\n",
      "Epoch 9/10\n",
      "16/16 [==============================] - 1s 75ms/step - loss: 0.6729 - accuracy: 0.5740\n",
      "Epoch 10/10\n",
      "16/16 [==============================] - 1s 74ms/step - loss: 0.6696 - accuracy: 0.5940\n"
     ]
    },
    {
     "data": {
      "text/plain": [
       "<keras.src.callbacks.History at 0x314096620>"
      ]
     },
     "execution_count": 4,
     "metadata": {},
     "output_type": "execute_result"
    }
   ],
   "source": [
    "model.fit(X, Y, epochs=10, batch_size=64)\n"
   ]
  },
  {
   "cell_type": "code",
   "execution_count": 5,
   "metadata": {},
   "outputs": [
    {
     "name": "stdout",
     "output_type": "stream",
     "text": [
      "32/32 [==============================] - 2s 49ms/step - loss: 0.6639 - accuracy: 0.6060\n",
      "Loss: 0.6638910174369812, Accuracy: 0.6060000061988831\n"
     ]
    }
   ],
   "source": [
    "loss, accuracy = model.evaluate(X, Y)\n",
    "print(f\"Loss: {loss}, Accuracy: {accuracy}\")\n"
   ]
  },
  {
   "cell_type": "code",
   "execution_count": null,
   "metadata": {},
   "outputs": [],
   "source": []
  }
 ],
 "metadata": {
  "kernelspec": {
   "display_name": "google",
   "language": "python",
   "name": "python3"
  },
  "language_info": {
   "codemirror_mode": {
    "name": "ipython",
    "version": 3
   },
   "file_extension": ".py",
   "mimetype": "text/x-python",
   "name": "python",
   "nbconvert_exporter": "python",
   "pygments_lexer": "ipython3",
   "version": "3.10.13"
  }
 },
 "nbformat": 4,
 "nbformat_minor": 2
}
