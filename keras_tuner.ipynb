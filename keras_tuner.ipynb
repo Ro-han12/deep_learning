{
 "cells": [
  {
   "cell_type": "code",
   "execution_count": 120,
   "metadata": {},
   "outputs": [
    {
     "data": {
      "text/html": [
       "<div>\n",
       "<style scoped>\n",
       "    .dataframe tbody tr th:only-of-type {\n",
       "        vertical-align: middle;\n",
       "    }\n",
       "\n",
       "    .dataframe tbody tr th {\n",
       "        vertical-align: top;\n",
       "    }\n",
       "\n",
       "    .dataframe thead th {\n",
       "        text-align: right;\n",
       "    }\n",
       "</style>\n",
       "<table border=\"1\" class=\"dataframe\">\n",
       "  <thead>\n",
       "    <tr style=\"text-align: right;\">\n",
       "      <th></th>\n",
       "      <th>Pregnancies</th>\n",
       "      <th>Glucose</th>\n",
       "      <th>BloodPressure</th>\n",
       "      <th>SkinThickness</th>\n",
       "      <th>Insulin</th>\n",
       "      <th>BMI</th>\n",
       "      <th>DiabetesPedigreeFunction</th>\n",
       "      <th>Age</th>\n",
       "      <th>Outcome</th>\n",
       "    </tr>\n",
       "  </thead>\n",
       "  <tbody>\n",
       "    <tr>\n",
       "      <th>0</th>\n",
       "      <td>6</td>\n",
       "      <td>148</td>\n",
       "      <td>72</td>\n",
       "      <td>35</td>\n",
       "      <td>0</td>\n",
       "      <td>33.6</td>\n",
       "      <td>0.627</td>\n",
       "      <td>50</td>\n",
       "      <td>1</td>\n",
       "    </tr>\n",
       "    <tr>\n",
       "      <th>1</th>\n",
       "      <td>1</td>\n",
       "      <td>85</td>\n",
       "      <td>66</td>\n",
       "      <td>29</td>\n",
       "      <td>0</td>\n",
       "      <td>26.6</td>\n",
       "      <td>0.351</td>\n",
       "      <td>31</td>\n",
       "      <td>0</td>\n",
       "    </tr>\n",
       "    <tr>\n",
       "      <th>2</th>\n",
       "      <td>8</td>\n",
       "      <td>183</td>\n",
       "      <td>64</td>\n",
       "      <td>0</td>\n",
       "      <td>0</td>\n",
       "      <td>23.3</td>\n",
       "      <td>0.672</td>\n",
       "      <td>32</td>\n",
       "      <td>1</td>\n",
       "    </tr>\n",
       "    <tr>\n",
       "      <th>3</th>\n",
       "      <td>1</td>\n",
       "      <td>89</td>\n",
       "      <td>66</td>\n",
       "      <td>23</td>\n",
       "      <td>94</td>\n",
       "      <td>28.1</td>\n",
       "      <td>0.167</td>\n",
       "      <td>21</td>\n",
       "      <td>0</td>\n",
       "    </tr>\n",
       "    <tr>\n",
       "      <th>4</th>\n",
       "      <td>0</td>\n",
       "      <td>137</td>\n",
       "      <td>40</td>\n",
       "      <td>35</td>\n",
       "      <td>168</td>\n",
       "      <td>43.1</td>\n",
       "      <td>2.288</td>\n",
       "      <td>33</td>\n",
       "      <td>1</td>\n",
       "    </tr>\n",
       "  </tbody>\n",
       "</table>\n",
       "</div>"
      ],
      "text/plain": [
       "   Pregnancies  Glucose  BloodPressure  SkinThickness  Insulin   BMI  \\\n",
       "0            6      148             72             35        0  33.6   \n",
       "1            1       85             66             29        0  26.6   \n",
       "2            8      183             64              0        0  23.3   \n",
       "3            1       89             66             23       94  28.1   \n",
       "4            0      137             40             35      168  43.1   \n",
       "\n",
       "   DiabetesPedigreeFunction  Age  Outcome  \n",
       "0                     0.627   50        1  \n",
       "1                     0.351   31        0  \n",
       "2                     0.672   32        1  \n",
       "3                     0.167   21        0  \n",
       "4                     2.288   33        1  "
      ]
     },
     "execution_count": 120,
     "metadata": {},
     "output_type": "execute_result"
    }
   ],
   "source": [
    "import numpy as np \n",
    "import pandas as pd\n",
    "data=pd.read_csv(\"diabetes.csv\")\n",
    "data.head()"
   ]
  },
  {
   "cell_type": "code",
   "execution_count": 121,
   "metadata": {},
   "outputs": [],
   "source": [
    "x=data.drop(columns='Outcome')\n",
    "y=data['Outcome']"
   ]
  },
  {
   "cell_type": "code",
   "execution_count": 122,
   "metadata": {},
   "outputs": [],
   "source": [
    "from sklearn.preprocessing import StandardScaler\n",
    "sc=StandardScaler()\n",
    "x=sc.fit_transform(x)"
   ]
  },
  {
   "cell_type": "code",
   "execution_count": 123,
   "metadata": {},
   "outputs": [],
   "source": [
    "from sklearn.model_selection import train_test_split\n",
    "x_train,x_test,y_train,y_test=train_test_split(x,y,test_size=0.2,random_state=42)"
   ]
  },
  {
   "cell_type": "code",
   "execution_count": 124,
   "metadata": {},
   "outputs": [],
   "source": [
    "import tensorflow\n",
    "from tensorflow import keras \n",
    "from tensorflow.keras import Sequential\n",
    "from tensorflow.keras.layers import Dense,Dropout,BatchNormalization\n"
   ]
  },
  {
   "cell_type": "code",
   "execution_count": 125,
   "metadata": {},
   "outputs": [],
   "source": [
    "model=Sequential()\n",
    "model.add(Dense(32,activation='relu',input_dim=8))\n",
    "model.add(Dense(16,activation='relu'))\n",
    "model.add(Dense(1,activation='sigmoid'))\n",
    "model.compile(optimizer='adam',loss='binary_crossentropy',metrics=['accuracy'])\n",
    "\n"
   ]
  },
  {
   "cell_type": "code",
   "execution_count": 126,
   "metadata": {},
   "outputs": [
    {
     "name": "stdout",
     "output_type": "stream",
     "text": [
      "Epoch 1/50\n"
     ]
    },
    {
     "name": "stdout",
     "output_type": "stream",
     "text": [
      "20/20 [==============================] - 0s 6ms/step - loss: 0.6321 - accuracy: 0.6580 - val_loss: 0.6104 - val_accuracy: 0.6688\n",
      "Epoch 2/50\n",
      "20/20 [==============================] - 0s 2ms/step - loss: 0.5775 - accuracy: 0.6971 - val_loss: 0.5834 - val_accuracy: 0.6883\n",
      "Epoch 3/50\n",
      "20/20 [==============================] - 0s 2ms/step - loss: 0.5484 - accuracy: 0.7101 - val_loss: 0.5633 - val_accuracy: 0.7273\n",
      "Epoch 4/50\n",
      "20/20 [==============================] - 0s 2ms/step - loss: 0.5262 - accuracy: 0.7231 - val_loss: 0.5480 - val_accuracy: 0.7143\n",
      "Epoch 5/50\n",
      "20/20 [==============================] - 0s 2ms/step - loss: 0.5071 - accuracy: 0.7329 - val_loss: 0.5345 - val_accuracy: 0.7273\n",
      "Epoch 6/50\n",
      "20/20 [==============================] - 0s 2ms/step - loss: 0.4917 - accuracy: 0.7687 - val_loss: 0.5272 - val_accuracy: 0.7468\n",
      "Epoch 7/50\n",
      "20/20 [==============================] - 0s 2ms/step - loss: 0.4793 - accuracy: 0.7834 - val_loss: 0.5247 - val_accuracy: 0.7468\n",
      "Epoch 8/50\n",
      "20/20 [==============================] - 0s 2ms/step - loss: 0.4698 - accuracy: 0.7818 - val_loss: 0.5211 - val_accuracy: 0.7468\n",
      "Epoch 9/50\n",
      "20/20 [==============================] - 0s 2ms/step - loss: 0.4605 - accuracy: 0.7915 - val_loss: 0.5170 - val_accuracy: 0.7532\n",
      "Epoch 10/50\n",
      "20/20 [==============================] - 0s 2ms/step - loss: 0.4550 - accuracy: 0.7899 - val_loss: 0.5137 - val_accuracy: 0.7532\n",
      "Epoch 11/50\n",
      "20/20 [==============================] - 0s 2ms/step - loss: 0.4493 - accuracy: 0.7948 - val_loss: 0.5158 - val_accuracy: 0.7403\n",
      "Epoch 12/50\n",
      "20/20 [==============================] - 0s 2ms/step - loss: 0.4444 - accuracy: 0.7964 - val_loss: 0.5155 - val_accuracy: 0.7338\n",
      "Epoch 13/50\n",
      "20/20 [==============================] - 0s 2ms/step - loss: 0.4413 - accuracy: 0.7883 - val_loss: 0.5161 - val_accuracy: 0.7403\n",
      "Epoch 14/50\n",
      "20/20 [==============================] - 0s 2ms/step - loss: 0.4388 - accuracy: 0.7915 - val_loss: 0.5134 - val_accuracy: 0.7662\n",
      "Epoch 15/50\n",
      "20/20 [==============================] - 0s 2ms/step - loss: 0.4354 - accuracy: 0.7948 - val_loss: 0.5174 - val_accuracy: 0.7403\n",
      "Epoch 16/50\n",
      "20/20 [==============================] - 0s 2ms/step - loss: 0.4331 - accuracy: 0.7915 - val_loss: 0.5175 - val_accuracy: 0.7597\n",
      "Epoch 17/50\n",
      "20/20 [==============================] - 0s 2ms/step - loss: 0.4320 - accuracy: 0.7932 - val_loss: 0.5238 - val_accuracy: 0.7597\n",
      "Epoch 18/50\n",
      "20/20 [==============================] - 0s 2ms/step - loss: 0.4285 - accuracy: 0.7948 - val_loss: 0.5230 - val_accuracy: 0.7468\n",
      "Epoch 19/50\n",
      "20/20 [==============================] - 0s 2ms/step - loss: 0.4266 - accuracy: 0.7932 - val_loss: 0.5240 - val_accuracy: 0.7468\n",
      "Epoch 20/50\n",
      "20/20 [==============================] - 0s 2ms/step - loss: 0.4251 - accuracy: 0.7964 - val_loss: 0.5255 - val_accuracy: 0.7338\n",
      "Epoch 21/50\n",
      "20/20 [==============================] - 0s 2ms/step - loss: 0.4246 - accuracy: 0.7997 - val_loss: 0.5283 - val_accuracy: 0.7338\n",
      "Epoch 22/50\n",
      "20/20 [==============================] - 0s 2ms/step - loss: 0.4217 - accuracy: 0.7997 - val_loss: 0.5267 - val_accuracy: 0.7468\n",
      "Epoch 23/50\n",
      "20/20 [==============================] - 0s 2ms/step - loss: 0.4214 - accuracy: 0.7980 - val_loss: 0.5312 - val_accuracy: 0.7403\n",
      "Epoch 24/50\n",
      "20/20 [==============================] - 0s 2ms/step - loss: 0.4184 - accuracy: 0.7997 - val_loss: 0.5275 - val_accuracy: 0.7468\n",
      "Epoch 25/50\n",
      "20/20 [==============================] - 0s 2ms/step - loss: 0.4177 - accuracy: 0.8078 - val_loss: 0.5291 - val_accuracy: 0.7468\n",
      "Epoch 26/50\n",
      "20/20 [==============================] - 0s 2ms/step - loss: 0.4164 - accuracy: 0.8062 - val_loss: 0.5345 - val_accuracy: 0.7468\n",
      "Epoch 27/50\n",
      "20/20 [==============================] - 0s 2ms/step - loss: 0.4143 - accuracy: 0.8094 - val_loss: 0.5312 - val_accuracy: 0.7403\n",
      "Epoch 28/50\n",
      "20/20 [==============================] - 0s 2ms/step - loss: 0.4129 - accuracy: 0.8062 - val_loss: 0.5359 - val_accuracy: 0.7338\n",
      "Epoch 29/50\n",
      "20/20 [==============================] - 0s 2ms/step - loss: 0.4111 - accuracy: 0.8143 - val_loss: 0.5353 - val_accuracy: 0.7338\n",
      "Epoch 30/50\n",
      "20/20 [==============================] - 0s 2ms/step - loss: 0.4103 - accuracy: 0.8127 - val_loss: 0.5345 - val_accuracy: 0.7338\n",
      "Epoch 31/50\n",
      "20/20 [==============================] - 0s 2ms/step - loss: 0.4104 - accuracy: 0.7997 - val_loss: 0.5280 - val_accuracy: 0.7597\n",
      "Epoch 32/50\n",
      "20/20 [==============================] - 0s 2ms/step - loss: 0.4088 - accuracy: 0.8127 - val_loss: 0.5337 - val_accuracy: 0.7338\n",
      "Epoch 33/50\n",
      "20/20 [==============================] - 0s 2ms/step - loss: 0.4070 - accuracy: 0.8127 - val_loss: 0.5364 - val_accuracy: 0.7338\n",
      "Epoch 34/50\n",
      "20/20 [==============================] - 0s 2ms/step - loss: 0.4052 - accuracy: 0.8127 - val_loss: 0.5375 - val_accuracy: 0.7403\n",
      "Epoch 35/50\n",
      "20/20 [==============================] - 0s 2ms/step - loss: 0.4040 - accuracy: 0.8046 - val_loss: 0.5379 - val_accuracy: 0.7468\n",
      "Epoch 36/50\n",
      "20/20 [==============================] - 0s 2ms/step - loss: 0.4034 - accuracy: 0.8078 - val_loss: 0.5427 - val_accuracy: 0.7403\n",
      "Epoch 37/50\n",
      "20/20 [==============================] - 0s 2ms/step - loss: 0.4031 - accuracy: 0.8160 - val_loss: 0.5428 - val_accuracy: 0.7338\n",
      "Epoch 38/50\n",
      "20/20 [==============================] - 0s 2ms/step - loss: 0.4013 - accuracy: 0.8094 - val_loss: 0.5414 - val_accuracy: 0.7532\n",
      "Epoch 39/50\n",
      "20/20 [==============================] - 0s 2ms/step - loss: 0.4003 - accuracy: 0.8078 - val_loss: 0.5443 - val_accuracy: 0.7403\n",
      "Epoch 40/50\n",
      "20/20 [==============================] - 0s 2ms/step - loss: 0.3989 - accuracy: 0.8127 - val_loss: 0.5442 - val_accuracy: 0.7532\n",
      "Epoch 41/50\n",
      "20/20 [==============================] - 0s 2ms/step - loss: 0.3984 - accuracy: 0.8094 - val_loss: 0.5478 - val_accuracy: 0.7532\n",
      "Epoch 42/50\n",
      "20/20 [==============================] - 0s 2ms/step - loss: 0.3981 - accuracy: 0.8062 - val_loss: 0.5464 - val_accuracy: 0.7338\n",
      "Epoch 43/50\n",
      "20/20 [==============================] - 0s 2ms/step - loss: 0.3963 - accuracy: 0.8192 - val_loss: 0.5466 - val_accuracy: 0.7468\n",
      "Epoch 44/50\n",
      "20/20 [==============================] - 0s 2ms/step - loss: 0.3952 - accuracy: 0.8176 - val_loss: 0.5520 - val_accuracy: 0.7273\n",
      "Epoch 45/50\n",
      "20/20 [==============================] - 0s 2ms/step - loss: 0.3961 - accuracy: 0.8094 - val_loss: 0.5547 - val_accuracy: 0.7338\n",
      "Epoch 46/50\n",
      "20/20 [==============================] - 0s 2ms/step - loss: 0.3933 - accuracy: 0.8160 - val_loss: 0.5509 - val_accuracy: 0.7273\n",
      "Epoch 47/50\n",
      "20/20 [==============================] - 0s 2ms/step - loss: 0.3922 - accuracy: 0.8176 - val_loss: 0.5566 - val_accuracy: 0.7208\n",
      "Epoch 48/50\n",
      "20/20 [==============================] - 0s 2ms/step - loss: 0.3917 - accuracy: 0.8160 - val_loss: 0.5519 - val_accuracy: 0.7273\n",
      "Epoch 49/50\n",
      "20/20 [==============================] - 0s 2ms/step - loss: 0.3908 - accuracy: 0.8111 - val_loss: 0.5549 - val_accuracy: 0.7208\n",
      "Epoch 50/50\n",
      "20/20 [==============================] - 0s 2ms/step - loss: 0.3898 - accuracy: 0.8192 - val_loss: 0.5538 - val_accuracy: 0.7273\n"
     ]
    },
    {
     "data": {
      "text/plain": [
       "<keras.src.callbacks.History at 0x29094ed90>"
      ]
     },
     "execution_count": 126,
     "metadata": {},
     "output_type": "execute_result"
    }
   ],
   "source": [
    "model.fit(x_train,y_train,epochs=50,batch_size=32,validation_data=(x_test,y_test))"
   ]
  },
  {
   "cell_type": "code",
   "execution_count": 127,
   "metadata": {},
   "outputs": [
    {
     "name": "stdout",
     "output_type": "stream",
     "text": [
      "Defaulting to user installation because normal site-packages is not writeable\n",
      "Requirement already satisfied: keras-tuner in /Users/rohansridhar/Library/Python/3.9/lib/python/site-packages (1.4.6)\n",
      "Requirement already satisfied: keras in /Users/rohansridhar/Library/Python/3.9/lib/python/site-packages (from keras-tuner) (2.14.0)\n",
      "Requirement already satisfied: packaging in /Users/rohansridhar/Library/Python/3.9/lib/python/site-packages (from keras-tuner) (23.2)\n",
      "Requirement already satisfied: requests in /Users/rohansridhar/Library/Python/3.9/lib/python/site-packages (from keras-tuner) (2.31.0)\n",
      "Requirement already satisfied: kt-legacy in /Users/rohansridhar/Library/Python/3.9/lib/python/site-packages (from keras-tuner) (1.0.5)\n",
      "Requirement already satisfied: charset-normalizer<4,>=2 in /Users/rohansridhar/Library/Python/3.9/lib/python/site-packages (from requests->keras-tuner) (3.3.0)\n",
      "Requirement already satisfied: idna<4,>=2.5 in /Users/rohansridhar/Library/Python/3.9/lib/python/site-packages (from requests->keras-tuner) (3.4)\n",
      "Requirement already satisfied: urllib3<3,>=1.21.1 in /Users/rohansridhar/Library/Python/3.9/lib/python/site-packages (from requests->keras-tuner) (2.0.7)\n",
      "Requirement already satisfied: certifi>=2017.4.17 in /Users/rohansridhar/Library/Python/3.9/lib/python/site-packages (from requests->keras-tuner) (2023.7.22)\n",
      "\u001b[33mWARNING: There was an error checking the latest version of pip.\u001b[0m\u001b[33m\n",
      "\u001b[0mNote: you may need to restart the kernel to use updated packages.\n"
     ]
    }
   ],
   "source": [
    "pip install -U keras-tuner"
   ]
  },
  {
   "cell_type": "code",
   "execution_count": 128,
   "metadata": {},
   "outputs": [],
   "source": [
    "import kerastuner as kt"
   ]
  },
  {
   "cell_type": "markdown",
   "metadata": {},
   "source": [
    "FOR OPTIMIZERS"
   ]
  },
  {
   "cell_type": "code",
   "execution_count": 129,
   "metadata": {},
   "outputs": [],
   "source": [
    "# #for optimizer \n",
    "# def build_model(hp):\n",
    "#     model=Sequential()\n",
    "#     model.add(Dense(32,activation='relu',input_dim=8))\n",
    "#     model.add(Dense(16,activation='relu'))\n",
    "#     model.add(Dense(1,activation='sigmoid'))\n",
    "#     optimizer=hp.Choice('optimizer',values=['adam','rmsprop','sgd','adadelta'])\n",
    "#     model.compile(optimizer=optimizer,loss='binary_crossentropy',metrics=['accuracy'])\n",
    "#     return model"
   ]
  },
  {
   "cell_type": "code",
   "execution_count": 130,
   "metadata": {},
   "outputs": [],
   "source": [
    "# tuner=kt.RandomSearch(build_model,objective='val_accuracy',max_trials=5)"
   ]
  },
  {
   "cell_type": "code",
   "execution_count": 131,
   "metadata": {},
   "outputs": [],
   "source": [
    "# tuner.search(x_train,y_train,epochs=5,validation_data=(x_test,y_test))"
   ]
  },
  {
   "cell_type": "code",
   "execution_count": 132,
   "metadata": {},
   "outputs": [],
   "source": [
    "# tuner.get_best_hyperparameters()[0].values"
   ]
  },
  {
   "cell_type": "code",
   "execution_count": 133,
   "metadata": {},
   "outputs": [],
   "source": [
    "# model=tuner.get_best_models(num_models=1)[0]\n",
    "# model.summary()"
   ]
  },
  {
   "cell_type": "code",
   "execution_count": 134,
   "metadata": {},
   "outputs": [],
   "source": [
    "# model.fit(x_train,y_train,batch_size=32,epochs=200,initial_epoch=6,validation_data=(x_test,y_test))"
   ]
  },
  {
   "cell_type": "code",
   "execution_count": 135,
   "metadata": {},
   "outputs": [],
   "source": [
    "# #for nuerons\n",
    "# def build_model1(hp):\n",
    "#     model=Sequential()\n",
    "#     units=hp.Int('units',min_value=8,max_value=128,step=8)\n",
    "#     model.add(Dense(units=units,activation='relu',input_dim=8))\n",
    "#     # model.add(Dense(units=units,activation='relu'))\n",
    "#     model.add(Dense(1,activation='sigmoid'))\n",
    "#     model.compile(optimizer='adam',loss='binary_crossentropy',metrics=['accuracy'])\n",
    "#     return model"
   ]
  },
  {
   "cell_type": "code",
   "execution_count": 136,
   "metadata": {},
   "outputs": [],
   "source": [
    "# tuner1=kt.RandomSearch(build_model1,objective='val_accuracy',max_trials=5)"
   ]
  },
  {
   "cell_type": "markdown",
   "metadata": {},
   "source": []
  },
  {
   "cell_type": "code",
   "execution_count": 137,
   "metadata": {},
   "outputs": [],
   "source": [
    "# tuner1.search(x_train,y_train,epochs=5,validation_data=(x_test,y_test))\n"
   ]
  },
  {
   "cell_type": "code",
   "execution_count": 138,
   "metadata": {},
   "outputs": [],
   "source": [
    "# tuner1.get_best_hyperparameters()[0].values"
   ]
  },
  {
   "cell_type": "code",
   "execution_count": 139,
   "metadata": {},
   "outputs": [],
   "source": [
    "# model=tuner1.get_best_models(num_models=1)[0]\n",
    "# model.fit(x_train,y_train,batch_size=32,epochs=200,initial_epoch=6,validation_data=(x_test,y_test))"
   ]
  },
  {
   "cell_type": "code",
   "execution_count": 140,
   "metadata": {},
   "outputs": [],
   "source": [
    "# model.summary()"
   ]
  },
  {
   "cell_type": "code",
   "execution_count": 141,
   "metadata": {},
   "outputs": [],
   "source": [
    "# #for nuerons\n",
    "# def build_model3(hp):\n",
    "#     model=Sequential()\n",
    "#     model.add(Dense(120,activation='relu',input_dim=8))\n",
    "#     for i in range(hp.Int('num_layers',min_value=8,max_value=128,step=8)):\n",
    "#         model.add(Dense(120,activation='relu'))\n",
    "#     model.add(Dense(1,activation='sigmoid'))\n",
    "#     model.compile(optimizer='adam',loss='binary_crossentropy',metrics=['accuracy'])\n",
    "#     return model"
   ]
  },
  {
   "cell_type": "code",
   "execution_count": 142,
   "metadata": {},
   "outputs": [],
   "source": [
    "# tuner3=kt.RandomSearch(build_model3,objective='val_accuracy',max_trials=5)"
   ]
  },
  {
   "cell_type": "code",
   "execution_count": 143,
   "metadata": {},
   "outputs": [],
   "source": [
    "# tuner3.search(x_train,y_train,epochs=5,validation_data=(x_test,y_test))\n"
   ]
  },
  {
   "cell_type": "code",
   "execution_count": 144,
   "metadata": {},
   "outputs": [],
   "source": [
    "# tuner3.get_best_hyperparameters()[0].values"
   ]
  },
  {
   "cell_type": "code",
   "execution_count": 145,
   "metadata": {},
   "outputs": [],
   "source": [
    "# model=tuner3.get_best_models(num_models=1)[0]\n",
    "# model.fit(x_train,y_train,batch_size=32,epochs=100,initial_epoch=6,validation_data=(x_test,y_test))"
   ]
  },
  {
   "cell_type": "code",
   "execution_count": 146,
   "metadata": {},
   "outputs": [],
   "source": [
    "def build_model(hp):\n",
    "    model=Sequential()\n",
    "    counter=0\n",
    "    for i in range(hp.Int('num_layers',min_value=1,max_value=10)):\n",
    "        if counter==0:\n",
    "            model.add(Dense(hp.Int('units'+str(i),min_value=8,max_value=128,step=8),activation=hp.Choice('activation'+str(i),values=['relu','tanh','sigmoid'])))\n",
    "            model.add(Dropout(hp.Choice('dropout'+str(i),values=[0.1,0.2,0.3,0.4,0.5,0.6,0.7,0.8,0.9])))   \n",
    "                \n",
    "        else:\n",
    "            model.add(Dense(\n",
    "                hp.Int('units'+str(i),min_value=8,max_value=128,step=8),\n",
    "                activation=hp.Choice('activation'+str(i),values=['relu','tanh','sigmoid'])\n",
    "                ))\n",
    "            model.add(Dropout(hp.Choice('dropout'+str(i),values=[0.1,0.2,0.3,0.4,0.5,0.6,0.7,0.8,0.9])))\n",
    "        counter+=1\n",
    "    model.add(Dense(1,activation='sigmoid'))\n",
    "        \n",
    "    optimizer=hp.Choice('optimizer',values=['adam','rmsprop','sgd','adadelta'])\n",
    "    model.compile(optimizer=optimizer,loss='binary_crossentropy',metrics=['accuracy'])\n",
    "    return model"
   ]
  },
  {
   "cell_type": "code",
   "execution_count": 147,
   "metadata": {},
   "outputs": [],
   "source": [
    "tuner=kt.RandomSearch(build_model,objective='val_accuracy',max_trials=5)"
   ]
  },
  {
   "cell_type": "code",
   "execution_count": 148,
   "metadata": {},
   "outputs": [
    {
     "name": "stdout",
     "output_type": "stream",
     "text": [
      "Trial 5 Complete [00h 00m 01s]\n",
      "val_accuracy: 0.6428571343421936\n",
      "\n",
      "Best val_accuracy So Far: 0.6428571343421936\n",
      "Total elapsed time: 00h 00m 05s\n"
     ]
    }
   ],
   "source": [
    "tuner.search(x_train,y_train,epochs=5,validation_data=(x_test,y_test))\n"
   ]
  },
  {
   "cell_type": "code",
   "execution_count": 149,
   "metadata": {},
   "outputs": [
    {
     "data": {
      "text/plain": [
       "{'num_layers': 3,\n",
       " 'units0': 32,\n",
       " 'activation0': 'sigmoid',\n",
       " 'dropout0': 0.4,\n",
       " 'optimizer': 'rmsprop',\n",
       " 'units1': 8,\n",
       " 'activation1': 'relu',\n",
       " 'dropout1': 0.1,\n",
       " 'units2': 8,\n",
       " 'activation2': 'relu',\n",
       " 'dropout2': 0.1}"
      ]
     },
     "execution_count": 149,
     "metadata": {},
     "output_type": "execute_result"
    }
   ],
   "source": [
    "tuner.get_best_hyperparameters()[0].values"
   ]
  },
  {
   "cell_type": "code",
   "execution_count": 150,
   "metadata": {},
   "outputs": [
    {
     "name": "stdout",
     "output_type": "stream",
     "text": [
      "Epoch 7/100\n",
      "20/20 [==============================] - 1s 7ms/step - loss: 0.6583 - accuracy: 0.6433 - val_loss: 0.6591 - val_accuracy: 0.6429\n",
      "Epoch 8/100\n",
      "20/20 [==============================] - 0s 2ms/step - loss: 0.6669 - accuracy: 0.6319 - val_loss: 0.6536 - val_accuracy: 0.6429\n",
      "Epoch 9/100\n",
      "20/20 [==============================] - 0s 2ms/step - loss: 0.6540 - accuracy: 0.6417 - val_loss: 0.6472 - val_accuracy: 0.6429\n",
      "Epoch 10/100\n",
      "20/20 [==============================] - 0s 2ms/step - loss: 0.6585 - accuracy: 0.6303 - val_loss: 0.6419 - val_accuracy: 0.6429\n",
      "Epoch 11/100\n",
      "20/20 [==============================] - 0s 2ms/step - loss: 0.6399 - accuracy: 0.6450 - val_loss: 0.6369 - val_accuracy: 0.6429\n",
      "Epoch 12/100\n",
      "20/20 [==============================] - 0s 2ms/step - loss: 0.6252 - accuracy: 0.6629 - val_loss: 0.6297 - val_accuracy: 0.6429\n",
      "Epoch 13/100\n",
      "20/20 [==============================] - 0s 2ms/step - loss: 0.6339 - accuracy: 0.6629 - val_loss: 0.6206 - val_accuracy: 0.6429\n",
      "Epoch 14/100\n",
      "20/20 [==============================] - 0s 2ms/step - loss: 0.6221 - accuracy: 0.6547 - val_loss: 0.6124 - val_accuracy: 0.6429\n",
      "Epoch 15/100\n",
      "20/20 [==============================] - 0s 2ms/step - loss: 0.6123 - accuracy: 0.6466 - val_loss: 0.6049 - val_accuracy: 0.6429\n",
      "Epoch 16/100\n",
      "20/20 [==============================] - 0s 3ms/step - loss: 0.6173 - accuracy: 0.6678 - val_loss: 0.5986 - val_accuracy: 0.6494\n",
      "Epoch 17/100\n",
      "20/20 [==============================] - 0s 2ms/step - loss: 0.6046 - accuracy: 0.6482 - val_loss: 0.5943 - val_accuracy: 0.6494\n",
      "Epoch 18/100\n",
      "20/20 [==============================] - 0s 2ms/step - loss: 0.5987 - accuracy: 0.6645 - val_loss: 0.5852 - val_accuracy: 0.6688\n",
      "Epoch 19/100\n",
      "20/20 [==============================] - 0s 2ms/step - loss: 0.6002 - accuracy: 0.6629 - val_loss: 0.5769 - val_accuracy: 0.6818\n",
      "Epoch 20/100\n",
      "20/20 [==============================] - 0s 2ms/step - loss: 0.5945 - accuracy: 0.6531 - val_loss: 0.5722 - val_accuracy: 0.6883\n",
      "Epoch 21/100\n",
      "20/20 [==============================] - 0s 2ms/step - loss: 0.5763 - accuracy: 0.6808 - val_loss: 0.5679 - val_accuracy: 0.6883\n",
      "Epoch 22/100\n",
      "20/20 [==============================] - 0s 2ms/step - loss: 0.5922 - accuracy: 0.6857 - val_loss: 0.5601 - val_accuracy: 0.7078\n",
      "Epoch 23/100\n",
      "20/20 [==============================] - 0s 2ms/step - loss: 0.5787 - accuracy: 0.7003 - val_loss: 0.5568 - val_accuracy: 0.7078\n",
      "Epoch 24/100\n",
      "20/20 [==============================] - 0s 2ms/step - loss: 0.5709 - accuracy: 0.6889 - val_loss: 0.5525 - val_accuracy: 0.7013\n",
      "Epoch 25/100\n",
      "20/20 [==============================] - 0s 2ms/step - loss: 0.5660 - accuracy: 0.6775 - val_loss: 0.5496 - val_accuracy: 0.7143\n",
      "Epoch 26/100\n",
      "20/20 [==============================] - 0s 2ms/step - loss: 0.5633 - accuracy: 0.7036 - val_loss: 0.5455 - val_accuracy: 0.6948\n",
      "Epoch 27/100\n",
      "20/20 [==============================] - 0s 2ms/step - loss: 0.5679 - accuracy: 0.7036 - val_loss: 0.5427 - val_accuracy: 0.7208\n",
      "Epoch 28/100\n",
      "20/20 [==============================] - 0s 2ms/step - loss: 0.5764 - accuracy: 0.6612 - val_loss: 0.5401 - val_accuracy: 0.7143\n",
      "Epoch 29/100\n",
      "20/20 [==============================] - 0s 2ms/step - loss: 0.5455 - accuracy: 0.7166 - val_loss: 0.5368 - val_accuracy: 0.7143\n",
      "Epoch 30/100\n",
      "20/20 [==============================] - 0s 2ms/step - loss: 0.5348 - accuracy: 0.7264 - val_loss: 0.5343 - val_accuracy: 0.7208\n",
      "Epoch 31/100\n",
      "20/20 [==============================] - 0s 2ms/step - loss: 0.5404 - accuracy: 0.7166 - val_loss: 0.5327 - val_accuracy: 0.7208\n",
      "Epoch 32/100\n",
      "20/20 [==============================] - 0s 2ms/step - loss: 0.5383 - accuracy: 0.7166 - val_loss: 0.5304 - val_accuracy: 0.7403\n",
      "Epoch 33/100\n",
      "20/20 [==============================] - 0s 2ms/step - loss: 0.5476 - accuracy: 0.6987 - val_loss: 0.5304 - val_accuracy: 0.7208\n",
      "Epoch 34/100\n",
      "20/20 [==============================] - 0s 2ms/step - loss: 0.5354 - accuracy: 0.7313 - val_loss: 0.5277 - val_accuracy: 0.7273\n",
      "Epoch 35/100\n",
      "20/20 [==============================] - 0s 2ms/step - loss: 0.5473 - accuracy: 0.7003 - val_loss: 0.5261 - val_accuracy: 0.7208\n",
      "Epoch 36/100\n",
      "20/20 [==============================] - 0s 2ms/step - loss: 0.5383 - accuracy: 0.7003 - val_loss: 0.5265 - val_accuracy: 0.7143\n",
      "Epoch 37/100\n",
      "20/20 [==============================] - 0s 2ms/step - loss: 0.5412 - accuracy: 0.7231 - val_loss: 0.5259 - val_accuracy: 0.7208\n",
      "Epoch 38/100\n",
      "20/20 [==============================] - 0s 2ms/step - loss: 0.5389 - accuracy: 0.7296 - val_loss: 0.5268 - val_accuracy: 0.7208\n",
      "Epoch 39/100\n",
      "20/20 [==============================] - 0s 2ms/step - loss: 0.5685 - accuracy: 0.6954 - val_loss: 0.5271 - val_accuracy: 0.7208\n",
      "Epoch 40/100\n",
      "20/20 [==============================] - 0s 2ms/step - loss: 0.5327 - accuracy: 0.7296 - val_loss: 0.5247 - val_accuracy: 0.7208\n",
      "Epoch 41/100\n",
      "20/20 [==============================] - 0s 2ms/step - loss: 0.5506 - accuracy: 0.7036 - val_loss: 0.5248 - val_accuracy: 0.7208\n",
      "Epoch 42/100\n",
      "20/20 [==============================] - 0s 2ms/step - loss: 0.5339 - accuracy: 0.7020 - val_loss: 0.5260 - val_accuracy: 0.7208\n",
      "Epoch 43/100\n",
      "20/20 [==============================] - 0s 2ms/step - loss: 0.5419 - accuracy: 0.7182 - val_loss: 0.5260 - val_accuracy: 0.7273\n",
      "Epoch 44/100\n",
      "20/20 [==============================] - 0s 2ms/step - loss: 0.5225 - accuracy: 0.7280 - val_loss: 0.5250 - val_accuracy: 0.7273\n",
      "Epoch 45/100\n",
      "20/20 [==============================] - 0s 2ms/step - loss: 0.5432 - accuracy: 0.7085 - val_loss: 0.5246 - val_accuracy: 0.7273\n",
      "Epoch 46/100\n",
      "20/20 [==============================] - 0s 2ms/step - loss: 0.5313 - accuracy: 0.7296 - val_loss: 0.5253 - val_accuracy: 0.7208\n",
      "Epoch 47/100\n",
      "20/20 [==============================] - 0s 2ms/step - loss: 0.5110 - accuracy: 0.7296 - val_loss: 0.5251 - val_accuracy: 0.7078\n",
      "Epoch 48/100\n",
      "20/20 [==============================] - 0s 2ms/step - loss: 0.5040 - accuracy: 0.7443 - val_loss: 0.5245 - val_accuracy: 0.7273\n",
      "Epoch 49/100\n",
      "20/20 [==============================] - 0s 2ms/step - loss: 0.5325 - accuracy: 0.7296 - val_loss: 0.5240 - val_accuracy: 0.7143\n",
      "Epoch 50/100\n",
      "20/20 [==============================] - 0s 2ms/step - loss: 0.5165 - accuracy: 0.7313 - val_loss: 0.5226 - val_accuracy: 0.7143\n",
      "Epoch 51/100\n",
      "20/20 [==============================] - 0s 2ms/step - loss: 0.5107 - accuracy: 0.7573 - val_loss: 0.5231 - val_accuracy: 0.7273\n",
      "Epoch 52/100\n",
      "20/20 [==============================] - 0s 2ms/step - loss: 0.5257 - accuracy: 0.7264 - val_loss: 0.5240 - val_accuracy: 0.7078\n",
      "Epoch 53/100\n",
      "20/20 [==============================] - 0s 2ms/step - loss: 0.5044 - accuracy: 0.7443 - val_loss: 0.5229 - val_accuracy: 0.7208\n",
      "Epoch 54/100\n",
      "20/20 [==============================] - 0s 2ms/step - loss: 0.5183 - accuracy: 0.7378 - val_loss: 0.5230 - val_accuracy: 0.7208\n",
      "Epoch 55/100\n",
      "20/20 [==============================] - 0s 2ms/step - loss: 0.5046 - accuracy: 0.7394 - val_loss: 0.5238 - val_accuracy: 0.7143\n",
      "Epoch 56/100\n",
      "20/20 [==============================] - 0s 2ms/step - loss: 0.5146 - accuracy: 0.7215 - val_loss: 0.5230 - val_accuracy: 0.7143\n",
      "Epoch 57/100\n",
      "20/20 [==============================] - 0s 2ms/step - loss: 0.5083 - accuracy: 0.7280 - val_loss: 0.5237 - val_accuracy: 0.7143\n",
      "Epoch 58/100\n",
      "20/20 [==============================] - 0s 2ms/step - loss: 0.5043 - accuracy: 0.7573 - val_loss: 0.5237 - val_accuracy: 0.7078\n",
      "Epoch 59/100\n",
      "20/20 [==============================] - 0s 2ms/step - loss: 0.5189 - accuracy: 0.7345 - val_loss: 0.5240 - val_accuracy: 0.7208\n",
      "Epoch 60/100\n",
      "20/20 [==============================] - 0s 2ms/step - loss: 0.5161 - accuracy: 0.7606 - val_loss: 0.5230 - val_accuracy: 0.7208\n",
      "Epoch 61/100\n",
      "20/20 [==============================] - 0s 2ms/step - loss: 0.5041 - accuracy: 0.7606 - val_loss: 0.5233 - val_accuracy: 0.7208\n",
      "Epoch 62/100\n",
      "20/20 [==============================] - 0s 2ms/step - loss: 0.5195 - accuracy: 0.7508 - val_loss: 0.5227 - val_accuracy: 0.7208\n",
      "Epoch 63/100\n",
      "20/20 [==============================] - 0s 2ms/step - loss: 0.5102 - accuracy: 0.7313 - val_loss: 0.5238 - val_accuracy: 0.7143\n",
      "Epoch 64/100\n",
      "20/20 [==============================] - 0s 2ms/step - loss: 0.4963 - accuracy: 0.7573 - val_loss: 0.5233 - val_accuracy: 0.7208\n",
      "Epoch 65/100\n",
      "20/20 [==============================] - 0s 2ms/step - loss: 0.5037 - accuracy: 0.7541 - val_loss: 0.5233 - val_accuracy: 0.7208\n",
      "Epoch 66/100\n",
      "20/20 [==============================] - 0s 2ms/step - loss: 0.4919 - accuracy: 0.7557 - val_loss: 0.5239 - val_accuracy: 0.7208\n",
      "Epoch 67/100\n",
      "20/20 [==============================] - 0s 2ms/step - loss: 0.5034 - accuracy: 0.7508 - val_loss: 0.5236 - val_accuracy: 0.7208\n",
      "Epoch 68/100\n",
      "20/20 [==============================] - 0s 2ms/step - loss: 0.5173 - accuracy: 0.7427 - val_loss: 0.5234 - val_accuracy: 0.7208\n",
      "Epoch 69/100\n",
      "20/20 [==============================] - 0s 2ms/step - loss: 0.5104 - accuracy: 0.7443 - val_loss: 0.5225 - val_accuracy: 0.7208\n",
      "Epoch 70/100\n",
      "20/20 [==============================] - 0s 2ms/step - loss: 0.5298 - accuracy: 0.7459 - val_loss: 0.5223 - val_accuracy: 0.7208\n",
      "Epoch 71/100\n",
      "20/20 [==============================] - 0s 2ms/step - loss: 0.4987 - accuracy: 0.7541 - val_loss: 0.5210 - val_accuracy: 0.7208\n",
      "Epoch 72/100\n",
      "20/20 [==============================] - 0s 2ms/step - loss: 0.4935 - accuracy: 0.7606 - val_loss: 0.5214 - val_accuracy: 0.7208\n",
      "Epoch 73/100\n",
      "20/20 [==============================] - 0s 2ms/step - loss: 0.4912 - accuracy: 0.7524 - val_loss: 0.5216 - val_accuracy: 0.7208\n",
      "Epoch 74/100\n",
      "20/20 [==============================] - 0s 2ms/step - loss: 0.4949 - accuracy: 0.7557 - val_loss: 0.5204 - val_accuracy: 0.7208\n",
      "Epoch 75/100\n",
      "20/20 [==============================] - 0s 2ms/step - loss: 0.5107 - accuracy: 0.7671 - val_loss: 0.5207 - val_accuracy: 0.7208\n",
      "Epoch 76/100\n",
      "20/20 [==============================] - 0s 2ms/step - loss: 0.4998 - accuracy: 0.7704 - val_loss: 0.5199 - val_accuracy: 0.7208\n",
      "Epoch 77/100\n",
      "20/20 [==============================] - 0s 2ms/step - loss: 0.5229 - accuracy: 0.7524 - val_loss: 0.5198 - val_accuracy: 0.7143\n",
      "Epoch 78/100\n",
      "20/20 [==============================] - 0s 2ms/step - loss: 0.5109 - accuracy: 0.7427 - val_loss: 0.5194 - val_accuracy: 0.7208\n",
      "Epoch 79/100\n",
      "20/20 [==============================] - 0s 2ms/step - loss: 0.5230 - accuracy: 0.7492 - val_loss: 0.5194 - val_accuracy: 0.7143\n",
      "Epoch 80/100\n",
      "20/20 [==============================] - 0s 2ms/step - loss: 0.4940 - accuracy: 0.7655 - val_loss: 0.5185 - val_accuracy: 0.7143\n",
      "Epoch 81/100\n",
      "20/20 [==============================] - 0s 2ms/step - loss: 0.5018 - accuracy: 0.7541 - val_loss: 0.5168 - val_accuracy: 0.7208\n",
      "Epoch 82/100\n",
      "20/20 [==============================] - 0s 2ms/step - loss: 0.4896 - accuracy: 0.7622 - val_loss: 0.5164 - val_accuracy: 0.7208\n",
      "Epoch 83/100\n",
      "20/20 [==============================] - 0s 2ms/step - loss: 0.5002 - accuracy: 0.7476 - val_loss: 0.5152 - val_accuracy: 0.7273\n",
      "Epoch 84/100\n",
      "20/20 [==============================] - 0s 2ms/step - loss: 0.5138 - accuracy: 0.7427 - val_loss: 0.5154 - val_accuracy: 0.7208\n",
      "Epoch 85/100\n",
      "20/20 [==============================] - 0s 2ms/step - loss: 0.4983 - accuracy: 0.7557 - val_loss: 0.5147 - val_accuracy: 0.7273\n",
      "Epoch 86/100\n",
      "20/20 [==============================] - 0s 2ms/step - loss: 0.5167 - accuracy: 0.7508 - val_loss: 0.5141 - val_accuracy: 0.7273\n",
      "Epoch 87/100\n",
      "20/20 [==============================] - 0s 2ms/step - loss: 0.4921 - accuracy: 0.7573 - val_loss: 0.5155 - val_accuracy: 0.7208\n",
      "Epoch 88/100\n",
      "20/20 [==============================] - 0s 2ms/step - loss: 0.4915 - accuracy: 0.7459 - val_loss: 0.5152 - val_accuracy: 0.7208\n",
      "Epoch 89/100\n",
      "20/20 [==============================] - 0s 2ms/step - loss: 0.5038 - accuracy: 0.7720 - val_loss: 0.5132 - val_accuracy: 0.7273\n",
      "Epoch 90/100\n",
      "20/20 [==============================] - 0s 2ms/step - loss: 0.4832 - accuracy: 0.7687 - val_loss: 0.5122 - val_accuracy: 0.7338\n",
      "Epoch 91/100\n",
      "20/20 [==============================] - 0s 2ms/step - loss: 0.4942 - accuracy: 0.7671 - val_loss: 0.5136 - val_accuracy: 0.7338\n",
      "Epoch 92/100\n",
      "20/20 [==============================] - 0s 2ms/step - loss: 0.4817 - accuracy: 0.7655 - val_loss: 0.5146 - val_accuracy: 0.7273\n",
      "Epoch 93/100\n",
      "20/20 [==============================] - 0s 2ms/step - loss: 0.5010 - accuracy: 0.7704 - val_loss: 0.5149 - val_accuracy: 0.7273\n",
      "Epoch 94/100\n",
      "20/20 [==============================] - 0s 2ms/step - loss: 0.4885 - accuracy: 0.7557 - val_loss: 0.5152 - val_accuracy: 0.7208\n",
      "Epoch 95/100\n",
      "20/20 [==============================] - 0s 2ms/step - loss: 0.4982 - accuracy: 0.7476 - val_loss: 0.5143 - val_accuracy: 0.7338\n",
      "Epoch 96/100\n",
      "20/20 [==============================] - 0s 2ms/step - loss: 0.5020 - accuracy: 0.7492 - val_loss: 0.5122 - val_accuracy: 0.7338\n",
      "Epoch 97/100\n",
      "20/20 [==============================] - 0s 2ms/step - loss: 0.5054 - accuracy: 0.7541 - val_loss: 0.5113 - val_accuracy: 0.7338\n",
      "Epoch 98/100\n",
      "20/20 [==============================] - 0s 2ms/step - loss: 0.5053 - accuracy: 0.7622 - val_loss: 0.5112 - val_accuracy: 0.7338\n",
      "Epoch 99/100\n",
      "20/20 [==============================] - 0s 2ms/step - loss: 0.4714 - accuracy: 0.7801 - val_loss: 0.5111 - val_accuracy: 0.7338\n",
      "Epoch 100/100\n",
      "20/20 [==============================] - 0s 2ms/step - loss: 0.5146 - accuracy: 0.7541 - val_loss: 0.5095 - val_accuracy: 0.7338\n"
     ]
    },
    {
     "data": {
      "text/plain": [
       "<keras.src.callbacks.History at 0x29258f070>"
      ]
     },
     "execution_count": 150,
     "metadata": {},
     "output_type": "execute_result"
    }
   ],
   "source": [
    "model=tuner.get_best_models(num_models=1)[0]\n",
    "model.fit(x_train,y_train,batch_size=32,epochs=100,initial_epoch=6,validation_data=(x_test,y_test))"
   ]
  }
 ],
 "metadata": {
  "kernelspec": {
   "display_name": "Python 3",
   "language": "python",
   "name": "python3"
  },
  "language_info": {
   "codemirror_mode": {
    "name": "ipython",
    "version": 3
   },
   "file_extension": ".py",
   "mimetype": "text/x-python",
   "name": "python",
   "nbconvert_exporter": "python",
   "pygments_lexer": "ipython3",
   "version": "3.9.6"
  }
 },
 "nbformat": 4,
 "nbformat_minor": 2
}
